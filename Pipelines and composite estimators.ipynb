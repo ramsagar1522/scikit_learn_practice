{
 "cells": [
  {
   "cell_type": "code",
   "execution_count": 9,
   "id": "a62bf987",
   "metadata": {},
   "outputs": [],
   "source": [
    "from sklearn.pipeline import Pipeline\n",
    "from sklearn.decomposition import PCA\n",
    "from sklearn.svm import SVC\n",
    "from sklearn import set_config\n",
    "set_config(display='diagram', print_changed_only=True)"
   ]
  },
  {
   "cell_type": "code",
   "execution_count": 10,
   "id": "75537024",
   "metadata": {},
   "outputs": [
    {
     "data": {
      "text/html": [
       "<style>#sk-1d72deb8-6c7c-4bc9-ab0a-560bc003fe9d {color: black;background-color: white;}#sk-1d72deb8-6c7c-4bc9-ab0a-560bc003fe9d pre{padding: 0;}#sk-1d72deb8-6c7c-4bc9-ab0a-560bc003fe9d div.sk-toggleable {background-color: white;}#sk-1d72deb8-6c7c-4bc9-ab0a-560bc003fe9d label.sk-toggleable__label {cursor: pointer;display: block;width: 100%;margin-bottom: 0;padding: 0.3em;box-sizing: border-box;text-align: center;}#sk-1d72deb8-6c7c-4bc9-ab0a-560bc003fe9d div.sk-toggleable__content {max-height: 0;max-width: 0;overflow: hidden;text-align: left;background-color: #f0f8ff;}#sk-1d72deb8-6c7c-4bc9-ab0a-560bc003fe9d div.sk-toggleable__content pre {margin: 0.2em;color: black;border-radius: 0.25em;background-color: #f0f8ff;}#sk-1d72deb8-6c7c-4bc9-ab0a-560bc003fe9d input.sk-toggleable__control:checked~div.sk-toggleable__content {max-height: 200px;max-width: 100%;overflow: auto;}#sk-1d72deb8-6c7c-4bc9-ab0a-560bc003fe9d div.sk-estimator input.sk-toggleable__control:checked~label.sk-toggleable__label {background-color: #d4ebff;}#sk-1d72deb8-6c7c-4bc9-ab0a-560bc003fe9d div.sk-label input.sk-toggleable__control:checked~label.sk-toggleable__label {background-color: #d4ebff;}#sk-1d72deb8-6c7c-4bc9-ab0a-560bc003fe9d input.sk-hidden--visually {border: 0;clip: rect(1px 1px 1px 1px);clip: rect(1px, 1px, 1px, 1px);height: 1px;margin: -1px;overflow: hidden;padding: 0;position: absolute;width: 1px;}#sk-1d72deb8-6c7c-4bc9-ab0a-560bc003fe9d div.sk-estimator {font-family: monospace;background-color: #f0f8ff;border: 1px dotted black;border-radius: 0.25em;box-sizing: border-box;margin-bottom: 0.5em;}#sk-1d72deb8-6c7c-4bc9-ab0a-560bc003fe9d div.sk-estimator:hover {background-color: #d4ebff;}#sk-1d72deb8-6c7c-4bc9-ab0a-560bc003fe9d div.sk-parallel-item::after {content: \"\";width: 100%;border-bottom: 1px solid gray;flex-grow: 1;}#sk-1d72deb8-6c7c-4bc9-ab0a-560bc003fe9d div.sk-label:hover label.sk-toggleable__label {background-color: #d4ebff;}#sk-1d72deb8-6c7c-4bc9-ab0a-560bc003fe9d div.sk-serial::before {content: \"\";position: absolute;border-left: 1px solid gray;box-sizing: border-box;top: 2em;bottom: 0;left: 50%;}#sk-1d72deb8-6c7c-4bc9-ab0a-560bc003fe9d div.sk-serial {display: flex;flex-direction: column;align-items: center;background-color: white;padding-right: 0.2em;padding-left: 0.2em;}#sk-1d72deb8-6c7c-4bc9-ab0a-560bc003fe9d div.sk-item {z-index: 1;}#sk-1d72deb8-6c7c-4bc9-ab0a-560bc003fe9d div.sk-parallel {display: flex;align-items: stretch;justify-content: center;background-color: white;}#sk-1d72deb8-6c7c-4bc9-ab0a-560bc003fe9d div.sk-parallel::before {content: \"\";position: absolute;border-left: 1px solid gray;box-sizing: border-box;top: 2em;bottom: 0;left: 50%;}#sk-1d72deb8-6c7c-4bc9-ab0a-560bc003fe9d div.sk-parallel-item {display: flex;flex-direction: column;position: relative;background-color: white;}#sk-1d72deb8-6c7c-4bc9-ab0a-560bc003fe9d div.sk-parallel-item:first-child::after {align-self: flex-end;width: 50%;}#sk-1d72deb8-6c7c-4bc9-ab0a-560bc003fe9d div.sk-parallel-item:last-child::after {align-self: flex-start;width: 50%;}#sk-1d72deb8-6c7c-4bc9-ab0a-560bc003fe9d div.sk-parallel-item:only-child::after {width: 0;}#sk-1d72deb8-6c7c-4bc9-ab0a-560bc003fe9d div.sk-dashed-wrapped {border: 1px dashed gray;margin: 0 0.4em 0.5em 0.4em;box-sizing: border-box;padding-bottom: 0.4em;background-color: white;position: relative;}#sk-1d72deb8-6c7c-4bc9-ab0a-560bc003fe9d div.sk-label label {font-family: monospace;font-weight: bold;background-color: white;display: inline-block;line-height: 1.2em;}#sk-1d72deb8-6c7c-4bc9-ab0a-560bc003fe9d div.sk-label-container {position: relative;z-index: 2;text-align: center;}#sk-1d72deb8-6c7c-4bc9-ab0a-560bc003fe9d div.sk-container {display: inline-block;position: relative;}</style><div id=\"sk-1d72deb8-6c7c-4bc9-ab0a-560bc003fe9d\" class\"sk-top-container\"><div class=\"sk-container\"><div class=\"sk-item sk-dashed-wrapped\"><div class=\"sk-label-container\"><div class=\"sk-label sk-toggleable\"><input class=\"sk-toggleable__control sk-hidden--visually\" id=\"b9f10eea-56c9-49a8-92fb-d59490135559\" type=\"checkbox\" ><label class=\"sk-toggleable__label\" for=\"b9f10eea-56c9-49a8-92fb-d59490135559\">Pipeline</label><div class=\"sk-toggleable__content\"><pre>Pipeline(steps=[('reduce_dim', PCA()), ('clf', SVC())])</pre></div></div></div><div class=\"sk-serial\"><div class=\"sk-item\"><div class=\"sk-estimator sk-toggleable\"><input class=\"sk-toggleable__control sk-hidden--visually\" id=\"af799cb6-d3f6-4a20-b72d-7a2adf03dccb\" type=\"checkbox\" ><label class=\"sk-toggleable__label\" for=\"af799cb6-d3f6-4a20-b72d-7a2adf03dccb\">PCA</label><div class=\"sk-toggleable__content\"><pre>PCA()</pre></div></div></div><div class=\"sk-item\"><div class=\"sk-estimator sk-toggleable\"><input class=\"sk-toggleable__control sk-hidden--visually\" id=\"a5b797f8-0a68-43ce-8b44-33dcfcfe84b3\" type=\"checkbox\" ><label class=\"sk-toggleable__label\" for=\"a5b797f8-0a68-43ce-8b44-33dcfcfe84b3\">SVC</label><div class=\"sk-toggleable__content\"><pre>SVC()</pre></div></div></div></div></div></div></div>"
      ],
      "text/plain": [
       "Pipeline(steps=[('reduce_dim', PCA()), ('clf', SVC())])"
      ]
     },
     "execution_count": 10,
     "metadata": {},
     "output_type": "execute_result"
    }
   ],
   "source": [
    "estimators = [('reduce_dim', PCA()), ('clf', SVC())]\n",
    "pipeline = Pipeline(estimators)\n",
    "pipeline"
   ]
  },
  {
   "cell_type": "code",
   "execution_count": 13,
   "id": "7088687d",
   "metadata": {},
   "outputs": [
    {
     "data": {
      "text/html": [
       "<style>#sk-6472ca6a-1828-4295-aec6-980cd1a54020 {color: black;background-color: white;}#sk-6472ca6a-1828-4295-aec6-980cd1a54020 pre{padding: 0;}#sk-6472ca6a-1828-4295-aec6-980cd1a54020 div.sk-toggleable {background-color: white;}#sk-6472ca6a-1828-4295-aec6-980cd1a54020 label.sk-toggleable__label {cursor: pointer;display: block;width: 100%;margin-bottom: 0;padding: 0.3em;box-sizing: border-box;text-align: center;}#sk-6472ca6a-1828-4295-aec6-980cd1a54020 div.sk-toggleable__content {max-height: 0;max-width: 0;overflow: hidden;text-align: left;background-color: #f0f8ff;}#sk-6472ca6a-1828-4295-aec6-980cd1a54020 div.sk-toggleable__content pre {margin: 0.2em;color: black;border-radius: 0.25em;background-color: #f0f8ff;}#sk-6472ca6a-1828-4295-aec6-980cd1a54020 input.sk-toggleable__control:checked~div.sk-toggleable__content {max-height: 200px;max-width: 100%;overflow: auto;}#sk-6472ca6a-1828-4295-aec6-980cd1a54020 div.sk-estimator input.sk-toggleable__control:checked~label.sk-toggleable__label {background-color: #d4ebff;}#sk-6472ca6a-1828-4295-aec6-980cd1a54020 div.sk-label input.sk-toggleable__control:checked~label.sk-toggleable__label {background-color: #d4ebff;}#sk-6472ca6a-1828-4295-aec6-980cd1a54020 input.sk-hidden--visually {border: 0;clip: rect(1px 1px 1px 1px);clip: rect(1px, 1px, 1px, 1px);height: 1px;margin: -1px;overflow: hidden;padding: 0;position: absolute;width: 1px;}#sk-6472ca6a-1828-4295-aec6-980cd1a54020 div.sk-estimator {font-family: monospace;background-color: #f0f8ff;border: 1px dotted black;border-radius: 0.25em;box-sizing: border-box;margin-bottom: 0.5em;}#sk-6472ca6a-1828-4295-aec6-980cd1a54020 div.sk-estimator:hover {background-color: #d4ebff;}#sk-6472ca6a-1828-4295-aec6-980cd1a54020 div.sk-parallel-item::after {content: \"\";width: 100%;border-bottom: 1px solid gray;flex-grow: 1;}#sk-6472ca6a-1828-4295-aec6-980cd1a54020 div.sk-label:hover label.sk-toggleable__label {background-color: #d4ebff;}#sk-6472ca6a-1828-4295-aec6-980cd1a54020 div.sk-serial::before {content: \"\";position: absolute;border-left: 1px solid gray;box-sizing: border-box;top: 2em;bottom: 0;left: 50%;}#sk-6472ca6a-1828-4295-aec6-980cd1a54020 div.sk-serial {display: flex;flex-direction: column;align-items: center;background-color: white;padding-right: 0.2em;padding-left: 0.2em;}#sk-6472ca6a-1828-4295-aec6-980cd1a54020 div.sk-item {z-index: 1;}#sk-6472ca6a-1828-4295-aec6-980cd1a54020 div.sk-parallel {display: flex;align-items: stretch;justify-content: center;background-color: white;}#sk-6472ca6a-1828-4295-aec6-980cd1a54020 div.sk-parallel::before {content: \"\";position: absolute;border-left: 1px solid gray;box-sizing: border-box;top: 2em;bottom: 0;left: 50%;}#sk-6472ca6a-1828-4295-aec6-980cd1a54020 div.sk-parallel-item {display: flex;flex-direction: column;position: relative;background-color: white;}#sk-6472ca6a-1828-4295-aec6-980cd1a54020 div.sk-parallel-item:first-child::after {align-self: flex-end;width: 50%;}#sk-6472ca6a-1828-4295-aec6-980cd1a54020 div.sk-parallel-item:last-child::after {align-self: flex-start;width: 50%;}#sk-6472ca6a-1828-4295-aec6-980cd1a54020 div.sk-parallel-item:only-child::after {width: 0;}#sk-6472ca6a-1828-4295-aec6-980cd1a54020 div.sk-dashed-wrapped {border: 1px dashed gray;margin: 0 0.4em 0.5em 0.4em;box-sizing: border-box;padding-bottom: 0.4em;background-color: white;position: relative;}#sk-6472ca6a-1828-4295-aec6-980cd1a54020 div.sk-label label {font-family: monospace;font-weight: bold;background-color: white;display: inline-block;line-height: 1.2em;}#sk-6472ca6a-1828-4295-aec6-980cd1a54020 div.sk-label-container {position: relative;z-index: 2;text-align: center;}#sk-6472ca6a-1828-4295-aec6-980cd1a54020 div.sk-container {display: inline-block;position: relative;}</style><div id=\"sk-6472ca6a-1828-4295-aec6-980cd1a54020\" class\"sk-top-container\"><div class=\"sk-container\"><div class=\"sk-item sk-dashed-wrapped\"><div class=\"sk-label-container\"><div class=\"sk-label sk-toggleable\"><input class=\"sk-toggleable__control sk-hidden--visually\" id=\"ade7e1e4-c236-470b-adf9-bfd48d9d2a88\" type=\"checkbox\" ><label class=\"sk-toggleable__label\" for=\"ade7e1e4-c236-470b-adf9-bfd48d9d2a88\">Pipeline</label><div class=\"sk-toggleable__content\"><pre>Pipeline(steps=[('binarizer', Binarizer()), ('multinomialnb', MultinomialNB())])</pre></div></div></div><div class=\"sk-serial\"><div class=\"sk-item\"><div class=\"sk-estimator sk-toggleable\"><input class=\"sk-toggleable__control sk-hidden--visually\" id=\"9b1cd318-1169-42a5-834e-6c780c1452c2\" type=\"checkbox\" ><label class=\"sk-toggleable__label\" for=\"9b1cd318-1169-42a5-834e-6c780c1452c2\">Binarizer</label><div class=\"sk-toggleable__content\"><pre>Binarizer()</pre></div></div></div><div class=\"sk-item\"><div class=\"sk-estimator sk-toggleable\"><input class=\"sk-toggleable__control sk-hidden--visually\" id=\"60bfe67c-2415-44bd-a0f9-8acc251ab24c\" type=\"checkbox\" ><label class=\"sk-toggleable__label\" for=\"60bfe67c-2415-44bd-a0f9-8acc251ab24c\">MultinomialNB</label><div class=\"sk-toggleable__content\"><pre>MultinomialNB()</pre></div></div></div></div></div></div></div>"
      ],
      "text/plain": [
       "Pipeline(steps=[('binarizer', Binarizer()), ('multinomialnb', MultinomialNB())])"
      ]
     },
     "execution_count": 13,
     "metadata": {},
     "output_type": "execute_result"
    }
   ],
   "source": [
    "from sklearn.pipeline import make_pipeline\n",
    "from sklearn.naive_bayes import MultinomialNB\n",
    "from sklearn.preprocessing import Binarizer\n",
    "make_pipeline(Binarizer(), MultinomialNB())"
   ]
  },
  {
   "cell_type": "markdown",
   "id": "05ca3c4f",
   "metadata": {},
   "source": [
    "## Accessing steps"
   ]
  },
  {
   "cell_type": "code",
   "execution_count": 18,
   "id": "361455a4",
   "metadata": {},
   "outputs": [
    {
     "data": {
      "text/plain": [
       "[('reduce_dim', PCA()), ('clf', SVC())]"
      ]
     },
     "execution_count": 18,
     "metadata": {},
     "output_type": "execute_result"
    }
   ],
   "source": [
    "pipeline.steps"
   ]
  },
  {
   "cell_type": "markdown",
   "id": "6a3b71f1",
   "metadata": {},
   "source": [
    "##  Nested parameters"
   ]
  },
  {
   "cell_type": "code",
   "execution_count": 21,
   "id": "b20238dc",
   "metadata": {},
   "outputs": [
    {
     "data": {
      "text/html": [
       "<style>#sk-ee0b29c7-6b39-43f0-ba2e-eb1b4ea431d1 {color: black;background-color: white;}#sk-ee0b29c7-6b39-43f0-ba2e-eb1b4ea431d1 pre{padding: 0;}#sk-ee0b29c7-6b39-43f0-ba2e-eb1b4ea431d1 div.sk-toggleable {background-color: white;}#sk-ee0b29c7-6b39-43f0-ba2e-eb1b4ea431d1 label.sk-toggleable__label {cursor: pointer;display: block;width: 100%;margin-bottom: 0;padding: 0.3em;box-sizing: border-box;text-align: center;}#sk-ee0b29c7-6b39-43f0-ba2e-eb1b4ea431d1 div.sk-toggleable__content {max-height: 0;max-width: 0;overflow: hidden;text-align: left;background-color: #f0f8ff;}#sk-ee0b29c7-6b39-43f0-ba2e-eb1b4ea431d1 div.sk-toggleable__content pre {margin: 0.2em;color: black;border-radius: 0.25em;background-color: #f0f8ff;}#sk-ee0b29c7-6b39-43f0-ba2e-eb1b4ea431d1 input.sk-toggleable__control:checked~div.sk-toggleable__content {max-height: 200px;max-width: 100%;overflow: auto;}#sk-ee0b29c7-6b39-43f0-ba2e-eb1b4ea431d1 div.sk-estimator input.sk-toggleable__control:checked~label.sk-toggleable__label {background-color: #d4ebff;}#sk-ee0b29c7-6b39-43f0-ba2e-eb1b4ea431d1 div.sk-label input.sk-toggleable__control:checked~label.sk-toggleable__label {background-color: #d4ebff;}#sk-ee0b29c7-6b39-43f0-ba2e-eb1b4ea431d1 input.sk-hidden--visually {border: 0;clip: rect(1px 1px 1px 1px);clip: rect(1px, 1px, 1px, 1px);height: 1px;margin: -1px;overflow: hidden;padding: 0;position: absolute;width: 1px;}#sk-ee0b29c7-6b39-43f0-ba2e-eb1b4ea431d1 div.sk-estimator {font-family: monospace;background-color: #f0f8ff;border: 1px dotted black;border-radius: 0.25em;box-sizing: border-box;margin-bottom: 0.5em;}#sk-ee0b29c7-6b39-43f0-ba2e-eb1b4ea431d1 div.sk-estimator:hover {background-color: #d4ebff;}#sk-ee0b29c7-6b39-43f0-ba2e-eb1b4ea431d1 div.sk-parallel-item::after {content: \"\";width: 100%;border-bottom: 1px solid gray;flex-grow: 1;}#sk-ee0b29c7-6b39-43f0-ba2e-eb1b4ea431d1 div.sk-label:hover label.sk-toggleable__label {background-color: #d4ebff;}#sk-ee0b29c7-6b39-43f0-ba2e-eb1b4ea431d1 div.sk-serial::before {content: \"\";position: absolute;border-left: 1px solid gray;box-sizing: border-box;top: 2em;bottom: 0;left: 50%;}#sk-ee0b29c7-6b39-43f0-ba2e-eb1b4ea431d1 div.sk-serial {display: flex;flex-direction: column;align-items: center;background-color: white;padding-right: 0.2em;padding-left: 0.2em;}#sk-ee0b29c7-6b39-43f0-ba2e-eb1b4ea431d1 div.sk-item {z-index: 1;}#sk-ee0b29c7-6b39-43f0-ba2e-eb1b4ea431d1 div.sk-parallel {display: flex;align-items: stretch;justify-content: center;background-color: white;}#sk-ee0b29c7-6b39-43f0-ba2e-eb1b4ea431d1 div.sk-parallel::before {content: \"\";position: absolute;border-left: 1px solid gray;box-sizing: border-box;top: 2em;bottom: 0;left: 50%;}#sk-ee0b29c7-6b39-43f0-ba2e-eb1b4ea431d1 div.sk-parallel-item {display: flex;flex-direction: column;position: relative;background-color: white;}#sk-ee0b29c7-6b39-43f0-ba2e-eb1b4ea431d1 div.sk-parallel-item:first-child::after {align-self: flex-end;width: 50%;}#sk-ee0b29c7-6b39-43f0-ba2e-eb1b4ea431d1 div.sk-parallel-item:last-child::after {align-self: flex-start;width: 50%;}#sk-ee0b29c7-6b39-43f0-ba2e-eb1b4ea431d1 div.sk-parallel-item:only-child::after {width: 0;}#sk-ee0b29c7-6b39-43f0-ba2e-eb1b4ea431d1 div.sk-dashed-wrapped {border: 1px dashed gray;margin: 0 0.4em 0.5em 0.4em;box-sizing: border-box;padding-bottom: 0.4em;background-color: white;position: relative;}#sk-ee0b29c7-6b39-43f0-ba2e-eb1b4ea431d1 div.sk-label label {font-family: monospace;font-weight: bold;background-color: white;display: inline-block;line-height: 1.2em;}#sk-ee0b29c7-6b39-43f0-ba2e-eb1b4ea431d1 div.sk-label-container {position: relative;z-index: 2;text-align: center;}#sk-ee0b29c7-6b39-43f0-ba2e-eb1b4ea431d1 div.sk-container {display: inline-block;position: relative;}</style><div id=\"sk-ee0b29c7-6b39-43f0-ba2e-eb1b4ea431d1\" class\"sk-top-container\"><div class=\"sk-container\"><div class=\"sk-item sk-dashed-wrapped\"><div class=\"sk-label-container\"><div class=\"sk-label sk-toggleable\"><input class=\"sk-toggleable__control sk-hidden--visually\" id=\"4be84e8d-30e0-4112-bd57-3a3d44d8fbaf\" type=\"checkbox\" ><label class=\"sk-toggleable__label\" for=\"4be84e8d-30e0-4112-bd57-3a3d44d8fbaf\">Pipeline</label><div class=\"sk-toggleable__content\"><pre>Pipeline(steps=[('reduce_dim', PCA()), ('clf', SVC(C=10))])</pre></div></div></div><div class=\"sk-serial\"><div class=\"sk-item\"><div class=\"sk-estimator sk-toggleable\"><input class=\"sk-toggleable__control sk-hidden--visually\" id=\"8c2ba832-0382-435e-a3ae-69c578c2da2b\" type=\"checkbox\" ><label class=\"sk-toggleable__label\" for=\"8c2ba832-0382-435e-a3ae-69c578c2da2b\">PCA</label><div class=\"sk-toggleable__content\"><pre>PCA()</pre></div></div></div><div class=\"sk-item\"><div class=\"sk-estimator sk-toggleable\"><input class=\"sk-toggleable__control sk-hidden--visually\" id=\"cc3edbc6-c76b-4155-b99a-62326a3c0c49\" type=\"checkbox\" ><label class=\"sk-toggleable__label\" for=\"cc3edbc6-c76b-4155-b99a-62326a3c0c49\">SVC</label><div class=\"sk-toggleable__content\"><pre>SVC(C=10)</pre></div></div></div></div></div></div></div>"
      ],
      "text/plain": [
       "Pipeline(steps=[('reduce_dim', PCA()), ('clf', SVC(C=10))])"
      ]
     },
     "execution_count": 21,
     "metadata": {},
     "output_type": "execute_result"
    }
   ],
   "source": [
    "pipeline.set_params(clf__C=10)"
   ]
  },
  {
   "cell_type": "code",
   "execution_count": 39,
   "id": "95d2448a",
   "metadata": {},
   "outputs": [
    {
     "data": {
      "text/html": [
       "<style>#sk-5f641fb7-0e77-4dce-96a3-c8ad26efbb55 {color: black;background-color: white;}#sk-5f641fb7-0e77-4dce-96a3-c8ad26efbb55 pre{padding: 0;}#sk-5f641fb7-0e77-4dce-96a3-c8ad26efbb55 div.sk-toggleable {background-color: white;}#sk-5f641fb7-0e77-4dce-96a3-c8ad26efbb55 label.sk-toggleable__label {cursor: pointer;display: block;width: 100%;margin-bottom: 0;padding: 0.3em;box-sizing: border-box;text-align: center;}#sk-5f641fb7-0e77-4dce-96a3-c8ad26efbb55 div.sk-toggleable__content {max-height: 0;max-width: 0;overflow: hidden;text-align: left;background-color: #f0f8ff;}#sk-5f641fb7-0e77-4dce-96a3-c8ad26efbb55 div.sk-toggleable__content pre {margin: 0.2em;color: black;border-radius: 0.25em;background-color: #f0f8ff;}#sk-5f641fb7-0e77-4dce-96a3-c8ad26efbb55 input.sk-toggleable__control:checked~div.sk-toggleable__content {max-height: 200px;max-width: 100%;overflow: auto;}#sk-5f641fb7-0e77-4dce-96a3-c8ad26efbb55 div.sk-estimator input.sk-toggleable__control:checked~label.sk-toggleable__label {background-color: #d4ebff;}#sk-5f641fb7-0e77-4dce-96a3-c8ad26efbb55 div.sk-label input.sk-toggleable__control:checked~label.sk-toggleable__label {background-color: #d4ebff;}#sk-5f641fb7-0e77-4dce-96a3-c8ad26efbb55 input.sk-hidden--visually {border: 0;clip: rect(1px 1px 1px 1px);clip: rect(1px, 1px, 1px, 1px);height: 1px;margin: -1px;overflow: hidden;padding: 0;position: absolute;width: 1px;}#sk-5f641fb7-0e77-4dce-96a3-c8ad26efbb55 div.sk-estimator {font-family: monospace;background-color: #f0f8ff;border: 1px dotted black;border-radius: 0.25em;box-sizing: border-box;margin-bottom: 0.5em;}#sk-5f641fb7-0e77-4dce-96a3-c8ad26efbb55 div.sk-estimator:hover {background-color: #d4ebff;}#sk-5f641fb7-0e77-4dce-96a3-c8ad26efbb55 div.sk-parallel-item::after {content: \"\";width: 100%;border-bottom: 1px solid gray;flex-grow: 1;}#sk-5f641fb7-0e77-4dce-96a3-c8ad26efbb55 div.sk-label:hover label.sk-toggleable__label {background-color: #d4ebff;}#sk-5f641fb7-0e77-4dce-96a3-c8ad26efbb55 div.sk-serial::before {content: \"\";position: absolute;border-left: 1px solid gray;box-sizing: border-box;top: 2em;bottom: 0;left: 50%;}#sk-5f641fb7-0e77-4dce-96a3-c8ad26efbb55 div.sk-serial {display: flex;flex-direction: column;align-items: center;background-color: white;padding-right: 0.2em;padding-left: 0.2em;}#sk-5f641fb7-0e77-4dce-96a3-c8ad26efbb55 div.sk-item {z-index: 1;}#sk-5f641fb7-0e77-4dce-96a3-c8ad26efbb55 div.sk-parallel {display: flex;align-items: stretch;justify-content: center;background-color: white;}#sk-5f641fb7-0e77-4dce-96a3-c8ad26efbb55 div.sk-parallel::before {content: \"\";position: absolute;border-left: 1px solid gray;box-sizing: border-box;top: 2em;bottom: 0;left: 50%;}#sk-5f641fb7-0e77-4dce-96a3-c8ad26efbb55 div.sk-parallel-item {display: flex;flex-direction: column;position: relative;background-color: white;}#sk-5f641fb7-0e77-4dce-96a3-c8ad26efbb55 div.sk-parallel-item:first-child::after {align-self: flex-end;width: 50%;}#sk-5f641fb7-0e77-4dce-96a3-c8ad26efbb55 div.sk-parallel-item:last-child::after {align-self: flex-start;width: 50%;}#sk-5f641fb7-0e77-4dce-96a3-c8ad26efbb55 div.sk-parallel-item:only-child::after {width: 0;}#sk-5f641fb7-0e77-4dce-96a3-c8ad26efbb55 div.sk-dashed-wrapped {border: 1px dashed gray;margin: 0 0.4em 0.5em 0.4em;box-sizing: border-box;padding-bottom: 0.4em;background-color: white;position: relative;}#sk-5f641fb7-0e77-4dce-96a3-c8ad26efbb55 div.sk-label label {font-family: monospace;font-weight: bold;background-color: white;display: inline-block;line-height: 1.2em;}#sk-5f641fb7-0e77-4dce-96a3-c8ad26efbb55 div.sk-label-container {position: relative;z-index: 2;text-align: center;}#sk-5f641fb7-0e77-4dce-96a3-c8ad26efbb55 div.sk-container {display: inline-block;position: relative;}</style><div id=\"sk-5f641fb7-0e77-4dce-96a3-c8ad26efbb55\" class\"sk-top-container\"><div class=\"sk-container\"><div class=\"sk-item sk-dashed-wrapped\"><div class=\"sk-label-container\"><div class=\"sk-label sk-toggleable\"><input class=\"sk-toggleable__control sk-hidden--visually\" id=\"a8bacf30-6b37-4cbf-8d0d-ab7d6e663bb9\" type=\"checkbox\" ><label class=\"sk-toggleable__label\" for=\"a8bacf30-6b37-4cbf-8d0d-ab7d6e663bb9\">GridSearchCV</label><div class=\"sk-toggleable__content\"><pre>GridSearchCV(estimator=Pipeline(steps=[('reduce_dim', PCA()),\n",
       "                                       ('clf', SVC(C=10))]),\n",
       "             param_grid={'clf__C': [0.1, 10, 100],\n",
       "                         'reduce_dim__n_components': [2, 5, 10]})</pre></div></div></div><div class=\"sk-parallel\"><div class=\"sk-parallel-item\"><div class=\"sk-item\"><div class=\"sk-serial\"><div class=\"sk-item\"><div class=\"sk-serial\"><div class=\"sk-item\"><div class=\"sk-estimator sk-toggleable\"><input class=\"sk-toggleable__control sk-hidden--visually\" id=\"184ea12f-97da-4b41-8937-bd74e1f301cd\" type=\"checkbox\" ><label class=\"sk-toggleable__label\" for=\"184ea12f-97da-4b41-8937-bd74e1f301cd\">PCA</label><div class=\"sk-toggleable__content\"><pre>PCA()</pre></div></div></div><div class=\"sk-item\"><div class=\"sk-estimator sk-toggleable\"><input class=\"sk-toggleable__control sk-hidden--visually\" id=\"034f919b-a751-4f3e-b868-a1810ab32ca9\" type=\"checkbox\" ><label class=\"sk-toggleable__label\" for=\"034f919b-a751-4f3e-b868-a1810ab32ca9\">SVC</label><div class=\"sk-toggleable__content\"><pre>SVC(C=10)</pre></div></div></div></div></div></div></div></div></div></div></div></div>"
      ],
      "text/plain": [
       "GridSearchCV(estimator=Pipeline(steps=[('reduce_dim', PCA()),\n",
       "                                       ('clf', SVC(C=10))]),\n",
       "             param_grid={'clf__C': [0.1, 10, 100],\n",
       "                         'reduce_dim__n_components': [2, 5, 10]})"
      ]
     },
     "execution_count": 39,
     "metadata": {},
     "output_type": "execute_result"
    }
   ],
   "source": [
    "from sklearn.model_selection import GridSearchCV\n",
    "param_grid = dict(reduce_dim__n_components=[2, 5, 10],\n",
    "                  clf__C=[0.1, 10, 100])\n",
    "grid_search = GridSearchCV(pipeline, param_grid)\n",
    "grid_search"
   ]
  },
  {
   "cell_type": "code",
   "execution_count": null,
   "id": "9a96cec5",
   "metadata": {},
   "outputs": [],
   "source": []
  },
  {
   "cell_type": "code",
   "execution_count": 24,
   "id": "722424b5",
   "metadata": {},
   "outputs": [
    {
     "data": {
      "text/html": [
       "<style>#sk-f6cd3e75-3d95-4192-a6eb-8788dcb615e4 {color: black;background-color: white;}#sk-f6cd3e75-3d95-4192-a6eb-8788dcb615e4 pre{padding: 0;}#sk-f6cd3e75-3d95-4192-a6eb-8788dcb615e4 div.sk-toggleable {background-color: white;}#sk-f6cd3e75-3d95-4192-a6eb-8788dcb615e4 label.sk-toggleable__label {cursor: pointer;display: block;width: 100%;margin-bottom: 0;padding: 0.3em;box-sizing: border-box;text-align: center;}#sk-f6cd3e75-3d95-4192-a6eb-8788dcb615e4 div.sk-toggleable__content {max-height: 0;max-width: 0;overflow: hidden;text-align: left;background-color: #f0f8ff;}#sk-f6cd3e75-3d95-4192-a6eb-8788dcb615e4 div.sk-toggleable__content pre {margin: 0.2em;color: black;border-radius: 0.25em;background-color: #f0f8ff;}#sk-f6cd3e75-3d95-4192-a6eb-8788dcb615e4 input.sk-toggleable__control:checked~div.sk-toggleable__content {max-height: 200px;max-width: 100%;overflow: auto;}#sk-f6cd3e75-3d95-4192-a6eb-8788dcb615e4 div.sk-estimator input.sk-toggleable__control:checked~label.sk-toggleable__label {background-color: #d4ebff;}#sk-f6cd3e75-3d95-4192-a6eb-8788dcb615e4 div.sk-label input.sk-toggleable__control:checked~label.sk-toggleable__label {background-color: #d4ebff;}#sk-f6cd3e75-3d95-4192-a6eb-8788dcb615e4 input.sk-hidden--visually {border: 0;clip: rect(1px 1px 1px 1px);clip: rect(1px, 1px, 1px, 1px);height: 1px;margin: -1px;overflow: hidden;padding: 0;position: absolute;width: 1px;}#sk-f6cd3e75-3d95-4192-a6eb-8788dcb615e4 div.sk-estimator {font-family: monospace;background-color: #f0f8ff;border: 1px dotted black;border-radius: 0.25em;box-sizing: border-box;margin-bottom: 0.5em;}#sk-f6cd3e75-3d95-4192-a6eb-8788dcb615e4 div.sk-estimator:hover {background-color: #d4ebff;}#sk-f6cd3e75-3d95-4192-a6eb-8788dcb615e4 div.sk-parallel-item::after {content: \"\";width: 100%;border-bottom: 1px solid gray;flex-grow: 1;}#sk-f6cd3e75-3d95-4192-a6eb-8788dcb615e4 div.sk-label:hover label.sk-toggleable__label {background-color: #d4ebff;}#sk-f6cd3e75-3d95-4192-a6eb-8788dcb615e4 div.sk-serial::before {content: \"\";position: absolute;border-left: 1px solid gray;box-sizing: border-box;top: 2em;bottom: 0;left: 50%;}#sk-f6cd3e75-3d95-4192-a6eb-8788dcb615e4 div.sk-serial {display: flex;flex-direction: column;align-items: center;background-color: white;padding-right: 0.2em;padding-left: 0.2em;}#sk-f6cd3e75-3d95-4192-a6eb-8788dcb615e4 div.sk-item {z-index: 1;}#sk-f6cd3e75-3d95-4192-a6eb-8788dcb615e4 div.sk-parallel {display: flex;align-items: stretch;justify-content: center;background-color: white;}#sk-f6cd3e75-3d95-4192-a6eb-8788dcb615e4 div.sk-parallel::before {content: \"\";position: absolute;border-left: 1px solid gray;box-sizing: border-box;top: 2em;bottom: 0;left: 50%;}#sk-f6cd3e75-3d95-4192-a6eb-8788dcb615e4 div.sk-parallel-item {display: flex;flex-direction: column;position: relative;background-color: white;}#sk-f6cd3e75-3d95-4192-a6eb-8788dcb615e4 div.sk-parallel-item:first-child::after {align-self: flex-end;width: 50%;}#sk-f6cd3e75-3d95-4192-a6eb-8788dcb615e4 div.sk-parallel-item:last-child::after {align-self: flex-start;width: 50%;}#sk-f6cd3e75-3d95-4192-a6eb-8788dcb615e4 div.sk-parallel-item:only-child::after {width: 0;}#sk-f6cd3e75-3d95-4192-a6eb-8788dcb615e4 div.sk-dashed-wrapped {border: 1px dashed gray;margin: 0 0.4em 0.5em 0.4em;box-sizing: border-box;padding-bottom: 0.4em;background-color: white;position: relative;}#sk-f6cd3e75-3d95-4192-a6eb-8788dcb615e4 div.sk-label label {font-family: monospace;font-weight: bold;background-color: white;display: inline-block;line-height: 1.2em;}#sk-f6cd3e75-3d95-4192-a6eb-8788dcb615e4 div.sk-label-container {position: relative;z-index: 2;text-align: center;}#sk-f6cd3e75-3d95-4192-a6eb-8788dcb615e4 div.sk-container {display: inline-block;position: relative;}</style><div id=\"sk-f6cd3e75-3d95-4192-a6eb-8788dcb615e4\" class\"sk-top-container\"><div class=\"sk-container\"><div class=\"sk-item\"><div class=\"sk-estimator sk-toggleable\"><input class=\"sk-toggleable__control sk-hidden--visually\" id=\"33b1624c-7848-4c75-890b-863eab2cf175\" type=\"checkbox\" checked><label class=\"sk-toggleable__label\" for=\"33b1624c-7848-4c75-890b-863eab2cf175\">PCA</label><div class=\"sk-toggleable__content\"><pre>PCA()</pre></div></div></div></div></div>"
      ],
      "text/plain": [
       "PCA()"
      ]
     },
     "execution_count": 24,
     "metadata": {},
     "output_type": "execute_result"
    }
   ],
   "source": [
    "pipeline[0]"
   ]
  },
  {
   "cell_type": "code",
   "execution_count": 25,
   "id": "d139ff89",
   "metadata": {},
   "outputs": [
    {
     "data": {
      "text/html": [
       "<style>#sk-73e92609-ab83-4677-8e44-c6e562003980 {color: black;background-color: white;}#sk-73e92609-ab83-4677-8e44-c6e562003980 pre{padding: 0;}#sk-73e92609-ab83-4677-8e44-c6e562003980 div.sk-toggleable {background-color: white;}#sk-73e92609-ab83-4677-8e44-c6e562003980 label.sk-toggleable__label {cursor: pointer;display: block;width: 100%;margin-bottom: 0;padding: 0.3em;box-sizing: border-box;text-align: center;}#sk-73e92609-ab83-4677-8e44-c6e562003980 div.sk-toggleable__content {max-height: 0;max-width: 0;overflow: hidden;text-align: left;background-color: #f0f8ff;}#sk-73e92609-ab83-4677-8e44-c6e562003980 div.sk-toggleable__content pre {margin: 0.2em;color: black;border-radius: 0.25em;background-color: #f0f8ff;}#sk-73e92609-ab83-4677-8e44-c6e562003980 input.sk-toggleable__control:checked~div.sk-toggleable__content {max-height: 200px;max-width: 100%;overflow: auto;}#sk-73e92609-ab83-4677-8e44-c6e562003980 div.sk-estimator input.sk-toggleable__control:checked~label.sk-toggleable__label {background-color: #d4ebff;}#sk-73e92609-ab83-4677-8e44-c6e562003980 div.sk-label input.sk-toggleable__control:checked~label.sk-toggleable__label {background-color: #d4ebff;}#sk-73e92609-ab83-4677-8e44-c6e562003980 input.sk-hidden--visually {border: 0;clip: rect(1px 1px 1px 1px);clip: rect(1px, 1px, 1px, 1px);height: 1px;margin: -1px;overflow: hidden;padding: 0;position: absolute;width: 1px;}#sk-73e92609-ab83-4677-8e44-c6e562003980 div.sk-estimator {font-family: monospace;background-color: #f0f8ff;border: 1px dotted black;border-radius: 0.25em;box-sizing: border-box;margin-bottom: 0.5em;}#sk-73e92609-ab83-4677-8e44-c6e562003980 div.sk-estimator:hover {background-color: #d4ebff;}#sk-73e92609-ab83-4677-8e44-c6e562003980 div.sk-parallel-item::after {content: \"\";width: 100%;border-bottom: 1px solid gray;flex-grow: 1;}#sk-73e92609-ab83-4677-8e44-c6e562003980 div.sk-label:hover label.sk-toggleable__label {background-color: #d4ebff;}#sk-73e92609-ab83-4677-8e44-c6e562003980 div.sk-serial::before {content: \"\";position: absolute;border-left: 1px solid gray;box-sizing: border-box;top: 2em;bottom: 0;left: 50%;}#sk-73e92609-ab83-4677-8e44-c6e562003980 div.sk-serial {display: flex;flex-direction: column;align-items: center;background-color: white;padding-right: 0.2em;padding-left: 0.2em;}#sk-73e92609-ab83-4677-8e44-c6e562003980 div.sk-item {z-index: 1;}#sk-73e92609-ab83-4677-8e44-c6e562003980 div.sk-parallel {display: flex;align-items: stretch;justify-content: center;background-color: white;}#sk-73e92609-ab83-4677-8e44-c6e562003980 div.sk-parallel::before {content: \"\";position: absolute;border-left: 1px solid gray;box-sizing: border-box;top: 2em;bottom: 0;left: 50%;}#sk-73e92609-ab83-4677-8e44-c6e562003980 div.sk-parallel-item {display: flex;flex-direction: column;position: relative;background-color: white;}#sk-73e92609-ab83-4677-8e44-c6e562003980 div.sk-parallel-item:first-child::after {align-self: flex-end;width: 50%;}#sk-73e92609-ab83-4677-8e44-c6e562003980 div.sk-parallel-item:last-child::after {align-self: flex-start;width: 50%;}#sk-73e92609-ab83-4677-8e44-c6e562003980 div.sk-parallel-item:only-child::after {width: 0;}#sk-73e92609-ab83-4677-8e44-c6e562003980 div.sk-dashed-wrapped {border: 1px dashed gray;margin: 0 0.4em 0.5em 0.4em;box-sizing: border-box;padding-bottom: 0.4em;background-color: white;position: relative;}#sk-73e92609-ab83-4677-8e44-c6e562003980 div.sk-label label {font-family: monospace;font-weight: bold;background-color: white;display: inline-block;line-height: 1.2em;}#sk-73e92609-ab83-4677-8e44-c6e562003980 div.sk-label-container {position: relative;z-index: 2;text-align: center;}#sk-73e92609-ab83-4677-8e44-c6e562003980 div.sk-container {display: inline-block;position: relative;}</style><div id=\"sk-73e92609-ab83-4677-8e44-c6e562003980\" class\"sk-top-container\"><div class=\"sk-container\"><div class=\"sk-item\"><div class=\"sk-estimator sk-toggleable\"><input class=\"sk-toggleable__control sk-hidden--visually\" id=\"8be53542-a05a-467e-a71e-f2d10d6394dc\" type=\"checkbox\" checked><label class=\"sk-toggleable__label\" for=\"8be53542-a05a-467e-a71e-f2d10d6394dc\">SVC</label><div class=\"sk-toggleable__content\"><pre>SVC(C=10)</pre></div></div></div></div></div>"
      ],
      "text/plain": [
       "SVC(C=10)"
      ]
     },
     "execution_count": 25,
     "metadata": {},
     "output_type": "execute_result"
    }
   ],
   "source": [
    "pipeline[1]"
   ]
  },
  {
   "cell_type": "code",
   "execution_count": 28,
   "id": "cd82fdfa",
   "metadata": {},
   "outputs": [],
   "source": [
    "from sklearn.feature_selection import SelectKBest\n",
    "from sklearn.datasets import load_iris\n",
    "from sklearn.linear_model import LogisticRegression"
   ]
  },
  {
   "cell_type": "code",
   "execution_count": 35,
   "id": "566e5a1e",
   "metadata": {},
   "outputs": [
    {
     "data": {
      "text/html": [
       "<style>#sk-d938f3bb-e242-4668-a03f-58f15df1aba5 {color: black;background-color: white;}#sk-d938f3bb-e242-4668-a03f-58f15df1aba5 pre{padding: 0;}#sk-d938f3bb-e242-4668-a03f-58f15df1aba5 div.sk-toggleable {background-color: white;}#sk-d938f3bb-e242-4668-a03f-58f15df1aba5 label.sk-toggleable__label {cursor: pointer;display: block;width: 100%;margin-bottom: 0;padding: 0.3em;box-sizing: border-box;text-align: center;}#sk-d938f3bb-e242-4668-a03f-58f15df1aba5 div.sk-toggleable__content {max-height: 0;max-width: 0;overflow: hidden;text-align: left;background-color: #f0f8ff;}#sk-d938f3bb-e242-4668-a03f-58f15df1aba5 div.sk-toggleable__content pre {margin: 0.2em;color: black;border-radius: 0.25em;background-color: #f0f8ff;}#sk-d938f3bb-e242-4668-a03f-58f15df1aba5 input.sk-toggleable__control:checked~div.sk-toggleable__content {max-height: 200px;max-width: 100%;overflow: auto;}#sk-d938f3bb-e242-4668-a03f-58f15df1aba5 div.sk-estimator input.sk-toggleable__control:checked~label.sk-toggleable__label {background-color: #d4ebff;}#sk-d938f3bb-e242-4668-a03f-58f15df1aba5 div.sk-label input.sk-toggleable__control:checked~label.sk-toggleable__label {background-color: #d4ebff;}#sk-d938f3bb-e242-4668-a03f-58f15df1aba5 input.sk-hidden--visually {border: 0;clip: rect(1px 1px 1px 1px);clip: rect(1px, 1px, 1px, 1px);height: 1px;margin: -1px;overflow: hidden;padding: 0;position: absolute;width: 1px;}#sk-d938f3bb-e242-4668-a03f-58f15df1aba5 div.sk-estimator {font-family: monospace;background-color: #f0f8ff;border: 1px dotted black;border-radius: 0.25em;box-sizing: border-box;margin-bottom: 0.5em;}#sk-d938f3bb-e242-4668-a03f-58f15df1aba5 div.sk-estimator:hover {background-color: #d4ebff;}#sk-d938f3bb-e242-4668-a03f-58f15df1aba5 div.sk-parallel-item::after {content: \"\";width: 100%;border-bottom: 1px solid gray;flex-grow: 1;}#sk-d938f3bb-e242-4668-a03f-58f15df1aba5 div.sk-label:hover label.sk-toggleable__label {background-color: #d4ebff;}#sk-d938f3bb-e242-4668-a03f-58f15df1aba5 div.sk-serial::before {content: \"\";position: absolute;border-left: 1px solid gray;box-sizing: border-box;top: 2em;bottom: 0;left: 50%;}#sk-d938f3bb-e242-4668-a03f-58f15df1aba5 div.sk-serial {display: flex;flex-direction: column;align-items: center;background-color: white;padding-right: 0.2em;padding-left: 0.2em;}#sk-d938f3bb-e242-4668-a03f-58f15df1aba5 div.sk-item {z-index: 1;}#sk-d938f3bb-e242-4668-a03f-58f15df1aba5 div.sk-parallel {display: flex;align-items: stretch;justify-content: center;background-color: white;}#sk-d938f3bb-e242-4668-a03f-58f15df1aba5 div.sk-parallel::before {content: \"\";position: absolute;border-left: 1px solid gray;box-sizing: border-box;top: 2em;bottom: 0;left: 50%;}#sk-d938f3bb-e242-4668-a03f-58f15df1aba5 div.sk-parallel-item {display: flex;flex-direction: column;position: relative;background-color: white;}#sk-d938f3bb-e242-4668-a03f-58f15df1aba5 div.sk-parallel-item:first-child::after {align-self: flex-end;width: 50%;}#sk-d938f3bb-e242-4668-a03f-58f15df1aba5 div.sk-parallel-item:last-child::after {align-self: flex-start;width: 50%;}#sk-d938f3bb-e242-4668-a03f-58f15df1aba5 div.sk-parallel-item:only-child::after {width: 0;}#sk-d938f3bb-e242-4668-a03f-58f15df1aba5 div.sk-dashed-wrapped {border: 1px dashed gray;margin: 0 0.4em 0.5em 0.4em;box-sizing: border-box;padding-bottom: 0.4em;background-color: white;position: relative;}#sk-d938f3bb-e242-4668-a03f-58f15df1aba5 div.sk-label label {font-family: monospace;font-weight: bold;background-color: white;display: inline-block;line-height: 1.2em;}#sk-d938f3bb-e242-4668-a03f-58f15df1aba5 div.sk-label-container {position: relative;z-index: 2;text-align: center;}#sk-d938f3bb-e242-4668-a03f-58f15df1aba5 div.sk-container {display: inline-block;position: relative;}</style><div id=\"sk-d938f3bb-e242-4668-a03f-58f15df1aba5\" class\"sk-top-container\"><div class=\"sk-container\"><div class=\"sk-item sk-dashed-wrapped\"><div class=\"sk-label-container\"><div class=\"sk-label sk-toggleable\"><input class=\"sk-toggleable__control sk-hidden--visually\" id=\"8bd44b56-e041-4c1c-b834-a1689fe6d32d\" type=\"checkbox\" ><label class=\"sk-toggleable__label\" for=\"8bd44b56-e041-4c1c-b834-a1689fe6d32d\">Pipeline</label><div class=\"sk-toggleable__content\"><pre>Pipeline(steps=[('select', SelectKBest(k=3)), ('clf', LogisticRegression())])</pre></div></div></div><div class=\"sk-serial\"><div class=\"sk-item\"><div class=\"sk-estimator sk-toggleable\"><input class=\"sk-toggleable__control sk-hidden--visually\" id=\"a5a20d76-81b0-4dde-905d-2e665eba16cb\" type=\"checkbox\" ><label class=\"sk-toggleable__label\" for=\"a5a20d76-81b0-4dde-905d-2e665eba16cb\">SelectKBest</label><div class=\"sk-toggleable__content\"><pre>SelectKBest(k=3)</pre></div></div></div><div class=\"sk-item\"><div class=\"sk-estimator sk-toggleable\"><input class=\"sk-toggleable__control sk-hidden--visually\" id=\"9863dd9d-072f-4ef2-8ca2-680b33e4ac89\" type=\"checkbox\" ><label class=\"sk-toggleable__label\" for=\"9863dd9d-072f-4ef2-8ca2-680b33e4ac89\">LogisticRegression</label><div class=\"sk-toggleable__content\"><pre>LogisticRegression()</pre></div></div></div></div></div></div></div>"
      ],
      "text/plain": [
       "Pipeline(steps=[('select', SelectKBest(k=3)), ('clf', LogisticRegression())])"
      ]
     },
     "execution_count": 35,
     "metadata": {},
     "output_type": "execute_result"
    }
   ],
   "source": [
    "iris = load_iris()\n",
    "pipe = Pipeline([('select', SelectKBest(k=3)), ('clf', LogisticRegression())])\n",
    "pipe.fit(iris.data, iris.target)"
   ]
  },
  {
   "cell_type": "code",
   "execution_count": 36,
   "id": "29b9df78",
   "metadata": {},
   "outputs": [
    {
     "data": {
      "text/plain": [
       "array(['x0', 'x2', 'x3'], dtype=object)"
      ]
     },
     "execution_count": 36,
     "metadata": {},
     "output_type": "execute_result"
    }
   ],
   "source": [
    "pipe[:-1].get_feature_names_out()"
   ]
  },
  {
   "cell_type": "code",
   "execution_count": 37,
   "id": "822a1ffa",
   "metadata": {},
   "outputs": [
    {
     "data": {
      "text/plain": [
       "array(['sepal length (cm)', 'petal length (cm)', 'petal width (cm)'],\n",
       "      dtype=object)"
      ]
     },
     "execution_count": 37,
     "metadata": {},
     "output_type": "execute_result"
    }
   ],
   "source": [
    "pipe[:-1].get_feature_names_out(iris.feature_names)"
   ]
  }
 ],
 "metadata": {
  "kernelspec": {
   "display_name": "Python 3",
   "language": "python",
   "name": "python3"
  },
  "language_info": {
   "codemirror_mode": {
    "name": "ipython",
    "version": 3
   },
   "file_extension": ".py",
   "mimetype": "text/x-python",
   "name": "python",
   "nbconvert_exporter": "python",
   "pygments_lexer": "ipython3",
   "version": "3.7.7"
  }
 },
 "nbformat": 4,
 "nbformat_minor": 5
}
