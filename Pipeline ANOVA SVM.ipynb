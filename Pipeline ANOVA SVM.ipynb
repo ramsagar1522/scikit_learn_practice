{
 "cells": [
  {
   "cell_type": "code",
   "execution_count": 35,
   "id": "2ad515ad",
   "metadata": {},
   "outputs": [],
   "source": [
    "from sklearn.datasets import make_classification\n",
    "from sklearn.model_selection import train_test_split\n",
    "from sklearn import set_config\n",
    "from sklearn.feature_selection import SelectKBest, f_classif\n",
    "from sklearn.pipeline import make_pipeline\n",
    "from sklearn.svm import LinearSVC\n",
    "from sklearn.model_selection import GridSearchCV\n",
    "from sklearn.pipeline import Pipeline\n",
    "import pandas as pd\n",
    "set_config(display='diagram')"
   ]
  },
  {
   "cell_type": "code",
   "execution_count": 4,
   "id": "84f16bde",
   "metadata": {},
   "outputs": [],
   "source": [
    "X, y = make_classification(\n",
    "    n_features=20, n_informative=3, n_redundant=0, n_classes=2,\n",
    "    n_clusters_per_class=2, random_state=42)\n",
    "X_train, X_test, y_train, y_test = train_test_split(X, y, random_state=42)"
   ]
  },
  {
   "cell_type": "code",
   "execution_count": 40,
   "id": "998864dc",
   "metadata": {
    "scrolled": true
   },
   "outputs": [
    {
     "data": {
      "text/html": [
       "<style>#sk-8a6cb5fd-e49f-4f93-99b1-b49a4f082797 {color: black;background-color: white;}#sk-8a6cb5fd-e49f-4f93-99b1-b49a4f082797 pre{padding: 0;}#sk-8a6cb5fd-e49f-4f93-99b1-b49a4f082797 div.sk-toggleable {background-color: white;}#sk-8a6cb5fd-e49f-4f93-99b1-b49a4f082797 label.sk-toggleable__label {cursor: pointer;display: block;width: 100%;margin-bottom: 0;padding: 0.3em;box-sizing: border-box;text-align: center;}#sk-8a6cb5fd-e49f-4f93-99b1-b49a4f082797 div.sk-toggleable__content {max-height: 0;max-width: 0;overflow: hidden;text-align: left;background-color: #f0f8ff;}#sk-8a6cb5fd-e49f-4f93-99b1-b49a4f082797 div.sk-toggleable__content pre {margin: 0.2em;color: black;border-radius: 0.25em;background-color: #f0f8ff;}#sk-8a6cb5fd-e49f-4f93-99b1-b49a4f082797 input.sk-toggleable__control:checked~div.sk-toggleable__content {max-height: 200px;max-width: 100%;overflow: auto;}#sk-8a6cb5fd-e49f-4f93-99b1-b49a4f082797 div.sk-estimator input.sk-toggleable__control:checked~label.sk-toggleable__label {background-color: #d4ebff;}#sk-8a6cb5fd-e49f-4f93-99b1-b49a4f082797 div.sk-label input.sk-toggleable__control:checked~label.sk-toggleable__label {background-color: #d4ebff;}#sk-8a6cb5fd-e49f-4f93-99b1-b49a4f082797 input.sk-hidden--visually {border: 0;clip: rect(1px 1px 1px 1px);clip: rect(1px, 1px, 1px, 1px);height: 1px;margin: -1px;overflow: hidden;padding: 0;position: absolute;width: 1px;}#sk-8a6cb5fd-e49f-4f93-99b1-b49a4f082797 div.sk-estimator {font-family: monospace;background-color: #f0f8ff;border: 1px dotted black;border-radius: 0.25em;box-sizing: border-box;margin-bottom: 0.5em;}#sk-8a6cb5fd-e49f-4f93-99b1-b49a4f082797 div.sk-estimator:hover {background-color: #d4ebff;}#sk-8a6cb5fd-e49f-4f93-99b1-b49a4f082797 div.sk-parallel-item::after {content: \"\";width: 100%;border-bottom: 1px solid gray;flex-grow: 1;}#sk-8a6cb5fd-e49f-4f93-99b1-b49a4f082797 div.sk-label:hover label.sk-toggleable__label {background-color: #d4ebff;}#sk-8a6cb5fd-e49f-4f93-99b1-b49a4f082797 div.sk-serial::before {content: \"\";position: absolute;border-left: 1px solid gray;box-sizing: border-box;top: 2em;bottom: 0;left: 50%;}#sk-8a6cb5fd-e49f-4f93-99b1-b49a4f082797 div.sk-serial {display: flex;flex-direction: column;align-items: center;background-color: white;padding-right: 0.2em;padding-left: 0.2em;}#sk-8a6cb5fd-e49f-4f93-99b1-b49a4f082797 div.sk-item {z-index: 1;}#sk-8a6cb5fd-e49f-4f93-99b1-b49a4f082797 div.sk-parallel {display: flex;align-items: stretch;justify-content: center;background-color: white;}#sk-8a6cb5fd-e49f-4f93-99b1-b49a4f082797 div.sk-parallel::before {content: \"\";position: absolute;border-left: 1px solid gray;box-sizing: border-box;top: 2em;bottom: 0;left: 50%;}#sk-8a6cb5fd-e49f-4f93-99b1-b49a4f082797 div.sk-parallel-item {display: flex;flex-direction: column;position: relative;background-color: white;}#sk-8a6cb5fd-e49f-4f93-99b1-b49a4f082797 div.sk-parallel-item:first-child::after {align-self: flex-end;width: 50%;}#sk-8a6cb5fd-e49f-4f93-99b1-b49a4f082797 div.sk-parallel-item:last-child::after {align-self: flex-start;width: 50%;}#sk-8a6cb5fd-e49f-4f93-99b1-b49a4f082797 div.sk-parallel-item:only-child::after {width: 0;}#sk-8a6cb5fd-e49f-4f93-99b1-b49a4f082797 div.sk-dashed-wrapped {border: 1px dashed gray;margin: 0 0.4em 0.5em 0.4em;box-sizing: border-box;padding-bottom: 0.4em;background-color: white;position: relative;}#sk-8a6cb5fd-e49f-4f93-99b1-b49a4f082797 div.sk-label label {font-family: monospace;font-weight: bold;background-color: white;display: inline-block;line-height: 1.2em;}#sk-8a6cb5fd-e49f-4f93-99b1-b49a4f082797 div.sk-label-container {position: relative;z-index: 2;text-align: center;}#sk-8a6cb5fd-e49f-4f93-99b1-b49a4f082797 div.sk-container {display: inline-block;position: relative;}</style><div id=\"sk-8a6cb5fd-e49f-4f93-99b1-b49a4f082797\" class\"sk-top-container\"><div class=\"sk-container\"><div class=\"sk-item sk-dashed-wrapped\"><div class=\"sk-label-container\"><div class=\"sk-label sk-toggleable\"><input class=\"sk-toggleable__control sk-hidden--visually\" id=\"92bef895-27ae-4cba-9b5f-2b4aef631d2d\" type=\"checkbox\" ><label class=\"sk-toggleable__label\" for=\"92bef895-27ae-4cba-9b5f-2b4aef631d2d\">Pipeline</label><div class=\"sk-toggleable__content\"><pre>Pipeline(steps=[('anova_filter', SelectKBest()), ('clf', LinearSVC())])</pre></div></div></div><div class=\"sk-serial\"><div class=\"sk-item\"><div class=\"sk-estimator sk-toggleable\"><input class=\"sk-toggleable__control sk-hidden--visually\" id=\"c15cfdb9-7229-4be2-94a3-230ef1106c38\" type=\"checkbox\" ><label class=\"sk-toggleable__label\" for=\"c15cfdb9-7229-4be2-94a3-230ef1106c38\">SelectKBest</label><div class=\"sk-toggleable__content\"><pre>SelectKBest()</pre></div></div></div><div class=\"sk-item\"><div class=\"sk-estimator sk-toggleable\"><input class=\"sk-toggleable__control sk-hidden--visually\" id=\"c9067665-76bd-46a3-b8ea-778830e5414c\" type=\"checkbox\" ><label class=\"sk-toggleable__label\" for=\"c9067665-76bd-46a3-b8ea-778830e5414c\">LinearSVC</label><div class=\"sk-toggleable__content\"><pre>LinearSVC()</pre></div></div></div></div></div></div></div>"
      ],
      "text/plain": [
       "Pipeline(steps=[('anova_filter', SelectKBest()), ('clf', LinearSVC())])"
      ]
     },
     "execution_count": 40,
     "metadata": {},
     "output_type": "execute_result"
    }
   ],
   "source": [
    "anova_filter = SelectKBest(f_classif)\n",
    "clf = LinearSVC()\n",
    "param_dict = dict(anova_filter__k=[1,2,3,4,5,6])\n",
    "anova_svm = Pipeline([('anova_filter',anova_filter), ('clf',clf)])\n",
    "anova_svm.fit(X_train, y_train)\n",
    "#grid_search = GridSearchCV(anova_svm, param_dict)\n",
    "#grid_search.fit(X_train, y_train)"
   ]
  },
  {
   "cell_type": "code",
   "execution_count": 43,
   "id": "be74065b",
   "metadata": {},
   "outputs": [
    {
     "data": {
      "text/html": [
       "<style>#sk-a1439991-9a5c-4bdf-a6f7-b22bd3ad0d7b {color: black;background-color: white;}#sk-a1439991-9a5c-4bdf-a6f7-b22bd3ad0d7b pre{padding: 0;}#sk-a1439991-9a5c-4bdf-a6f7-b22bd3ad0d7b div.sk-toggleable {background-color: white;}#sk-a1439991-9a5c-4bdf-a6f7-b22bd3ad0d7b label.sk-toggleable__label {cursor: pointer;display: block;width: 100%;margin-bottom: 0;padding: 0.3em;box-sizing: border-box;text-align: center;}#sk-a1439991-9a5c-4bdf-a6f7-b22bd3ad0d7b div.sk-toggleable__content {max-height: 0;max-width: 0;overflow: hidden;text-align: left;background-color: #f0f8ff;}#sk-a1439991-9a5c-4bdf-a6f7-b22bd3ad0d7b div.sk-toggleable__content pre {margin: 0.2em;color: black;border-radius: 0.25em;background-color: #f0f8ff;}#sk-a1439991-9a5c-4bdf-a6f7-b22bd3ad0d7b input.sk-toggleable__control:checked~div.sk-toggleable__content {max-height: 200px;max-width: 100%;overflow: auto;}#sk-a1439991-9a5c-4bdf-a6f7-b22bd3ad0d7b div.sk-estimator input.sk-toggleable__control:checked~label.sk-toggleable__label {background-color: #d4ebff;}#sk-a1439991-9a5c-4bdf-a6f7-b22bd3ad0d7b div.sk-label input.sk-toggleable__control:checked~label.sk-toggleable__label {background-color: #d4ebff;}#sk-a1439991-9a5c-4bdf-a6f7-b22bd3ad0d7b input.sk-hidden--visually {border: 0;clip: rect(1px 1px 1px 1px);clip: rect(1px, 1px, 1px, 1px);height: 1px;margin: -1px;overflow: hidden;padding: 0;position: absolute;width: 1px;}#sk-a1439991-9a5c-4bdf-a6f7-b22bd3ad0d7b div.sk-estimator {font-family: monospace;background-color: #f0f8ff;border: 1px dotted black;border-radius: 0.25em;box-sizing: border-box;margin-bottom: 0.5em;}#sk-a1439991-9a5c-4bdf-a6f7-b22bd3ad0d7b div.sk-estimator:hover {background-color: #d4ebff;}#sk-a1439991-9a5c-4bdf-a6f7-b22bd3ad0d7b div.sk-parallel-item::after {content: \"\";width: 100%;border-bottom: 1px solid gray;flex-grow: 1;}#sk-a1439991-9a5c-4bdf-a6f7-b22bd3ad0d7b div.sk-label:hover label.sk-toggleable__label {background-color: #d4ebff;}#sk-a1439991-9a5c-4bdf-a6f7-b22bd3ad0d7b div.sk-serial::before {content: \"\";position: absolute;border-left: 1px solid gray;box-sizing: border-box;top: 2em;bottom: 0;left: 50%;}#sk-a1439991-9a5c-4bdf-a6f7-b22bd3ad0d7b div.sk-serial {display: flex;flex-direction: column;align-items: center;background-color: white;padding-right: 0.2em;padding-left: 0.2em;}#sk-a1439991-9a5c-4bdf-a6f7-b22bd3ad0d7b div.sk-item {z-index: 1;}#sk-a1439991-9a5c-4bdf-a6f7-b22bd3ad0d7b div.sk-parallel {display: flex;align-items: stretch;justify-content: center;background-color: white;}#sk-a1439991-9a5c-4bdf-a6f7-b22bd3ad0d7b div.sk-parallel::before {content: \"\";position: absolute;border-left: 1px solid gray;box-sizing: border-box;top: 2em;bottom: 0;left: 50%;}#sk-a1439991-9a5c-4bdf-a6f7-b22bd3ad0d7b div.sk-parallel-item {display: flex;flex-direction: column;position: relative;background-color: white;}#sk-a1439991-9a5c-4bdf-a6f7-b22bd3ad0d7b div.sk-parallel-item:first-child::after {align-self: flex-end;width: 50%;}#sk-a1439991-9a5c-4bdf-a6f7-b22bd3ad0d7b div.sk-parallel-item:last-child::after {align-self: flex-start;width: 50%;}#sk-a1439991-9a5c-4bdf-a6f7-b22bd3ad0d7b div.sk-parallel-item:only-child::after {width: 0;}#sk-a1439991-9a5c-4bdf-a6f7-b22bd3ad0d7b div.sk-dashed-wrapped {border: 1px dashed gray;margin: 0 0.4em 0.5em 0.4em;box-sizing: border-box;padding-bottom: 0.4em;background-color: white;position: relative;}#sk-a1439991-9a5c-4bdf-a6f7-b22bd3ad0d7b div.sk-label label {font-family: monospace;font-weight: bold;background-color: white;display: inline-block;line-height: 1.2em;}#sk-a1439991-9a5c-4bdf-a6f7-b22bd3ad0d7b div.sk-label-container {position: relative;z-index: 2;text-align: center;}#sk-a1439991-9a5c-4bdf-a6f7-b22bd3ad0d7b div.sk-container {display: inline-block;position: relative;}</style><div id=\"sk-a1439991-9a5c-4bdf-a6f7-b22bd3ad0d7b\" class\"sk-top-container\"><div class=\"sk-container\"><div class=\"sk-item sk-dashed-wrapped\"><div class=\"sk-label-container\"><div class=\"sk-label sk-toggleable\"><input class=\"sk-toggleable__control sk-hidden--visually\" id=\"2e91f4d0-0b96-40a1-b9fd-0c9a21494512\" type=\"checkbox\" ><label class=\"sk-toggleable__label\" for=\"2e91f4d0-0b96-40a1-b9fd-0c9a21494512\">Pipeline</label><div class=\"sk-toggleable__content\"><pre>Pipeline(steps=[('anova_filter', SelectKBest(k=1)), ('clf', LinearSVC())])</pre></div></div></div><div class=\"sk-serial\"><div class=\"sk-item\"><div class=\"sk-estimator sk-toggleable\"><input class=\"sk-toggleable__control sk-hidden--visually\" id=\"87cbaaf3-6fa9-4b40-9033-bcf9b33e7393\" type=\"checkbox\" ><label class=\"sk-toggleable__label\" for=\"87cbaaf3-6fa9-4b40-9033-bcf9b33e7393\">SelectKBest</label><div class=\"sk-toggleable__content\"><pre>SelectKBest(k=1)</pre></div></div></div><div class=\"sk-item\"><div class=\"sk-estimator sk-toggleable\"><input class=\"sk-toggleable__control sk-hidden--visually\" id=\"a1691fd0-d7d1-482b-b2ea-5a9a771656c3\" type=\"checkbox\" ><label class=\"sk-toggleable__label\" for=\"a1691fd0-d7d1-482b-b2ea-5a9a771656c3\">LinearSVC</label><div class=\"sk-toggleable__content\"><pre>LinearSVC()</pre></div></div></div></div></div></div></div>"
      ],
      "text/plain": [
       "Pipeline(steps=[('anova_filter', SelectKBest(k=1)), ('clf', LinearSVC())])"
      ]
     },
     "execution_count": 43,
     "metadata": {},
     "output_type": "execute_result"
    }
   ],
   "source": [
    "grid_search.best_estimator_"
   ]
  },
  {
   "cell_type": "code",
   "execution_count": 36,
   "id": "6e650b7b",
   "metadata": {},
   "outputs": [
    {
     "data": {
      "text/html": [
       "<div>\n",
       "<style scoped>\n",
       "    .dataframe tbody tr th:only-of-type {\n",
       "        vertical-align: middle;\n",
       "    }\n",
       "\n",
       "    .dataframe tbody tr th {\n",
       "        vertical-align: top;\n",
       "    }\n",
       "\n",
       "    .dataframe thead th {\n",
       "        text-align: right;\n",
       "    }\n",
       "</style>\n",
       "<table border=\"1\" class=\"dataframe\">\n",
       "  <thead>\n",
       "    <tr style=\"text-align: right;\">\n",
       "      <th></th>\n",
       "      <th>mean_fit_time</th>\n",
       "      <th>std_fit_time</th>\n",
       "      <th>mean_score_time</th>\n",
       "      <th>std_score_time</th>\n",
       "      <th>param_anova_filter__k</th>\n",
       "      <th>params</th>\n",
       "      <th>split0_test_score</th>\n",
       "      <th>split1_test_score</th>\n",
       "      <th>split2_test_score</th>\n",
       "      <th>split3_test_score</th>\n",
       "      <th>split4_test_score</th>\n",
       "      <th>mean_test_score</th>\n",
       "      <th>std_test_score</th>\n",
       "      <th>rank_test_score</th>\n",
       "    </tr>\n",
       "  </thead>\n",
       "  <tbody>\n",
       "    <tr>\n",
       "      <th>0</th>\n",
       "      <td>0.002750</td>\n",
       "      <td>0.000398</td>\n",
       "      <td>0.001381</td>\n",
       "      <td>0.000693</td>\n",
       "      <td>1</td>\n",
       "      <td>{'anova_filter__k': 1}</td>\n",
       "      <td>0.933333</td>\n",
       "      <td>0.800000</td>\n",
       "      <td>1.000000</td>\n",
       "      <td>0.933333</td>\n",
       "      <td>0.800000</td>\n",
       "      <td>0.893333</td>\n",
       "      <td>0.080000</td>\n",
       "      <td>1</td>\n",
       "    </tr>\n",
       "    <tr>\n",
       "      <th>1</th>\n",
       "      <td>0.002834</td>\n",
       "      <td>0.001125</td>\n",
       "      <td>0.000757</td>\n",
       "      <td>0.000282</td>\n",
       "      <td>2</td>\n",
       "      <td>{'anova_filter__k': 2}</td>\n",
       "      <td>0.800000</td>\n",
       "      <td>0.866667</td>\n",
       "      <td>0.866667</td>\n",
       "      <td>0.933333</td>\n",
       "      <td>0.666667</td>\n",
       "      <td>0.826667</td>\n",
       "      <td>0.090431</td>\n",
       "      <td>6</td>\n",
       "    </tr>\n",
       "    <tr>\n",
       "      <th>2</th>\n",
       "      <td>0.002081</td>\n",
       "      <td>0.000373</td>\n",
       "      <td>0.000508</td>\n",
       "      <td>0.000031</td>\n",
       "      <td>3</td>\n",
       "      <td>{'anova_filter__k': 3}</td>\n",
       "      <td>0.866667</td>\n",
       "      <td>0.933333</td>\n",
       "      <td>1.000000</td>\n",
       "      <td>0.933333</td>\n",
       "      <td>0.666667</td>\n",
       "      <td>0.880000</td>\n",
       "      <td>0.114698</td>\n",
       "      <td>2</td>\n",
       "    </tr>\n",
       "    <tr>\n",
       "      <th>3</th>\n",
       "      <td>0.001733</td>\n",
       "      <td>0.000138</td>\n",
       "      <td>0.000487</td>\n",
       "      <td>0.000016</td>\n",
       "      <td>4</td>\n",
       "      <td>{'anova_filter__k': 4}</td>\n",
       "      <td>0.866667</td>\n",
       "      <td>0.933333</td>\n",
       "      <td>0.866667</td>\n",
       "      <td>0.933333</td>\n",
       "      <td>0.666667</td>\n",
       "      <td>0.853333</td>\n",
       "      <td>0.097980</td>\n",
       "      <td>4</td>\n",
       "    </tr>\n",
       "    <tr>\n",
       "      <th>4</th>\n",
       "      <td>0.001769</td>\n",
       "      <td>0.000142</td>\n",
       "      <td>0.000485</td>\n",
       "      <td>0.000026</td>\n",
       "      <td>5</td>\n",
       "      <td>{'anova_filter__k': 5}</td>\n",
       "      <td>0.866667</td>\n",
       "      <td>0.933333</td>\n",
       "      <td>0.866667</td>\n",
       "      <td>0.933333</td>\n",
       "      <td>0.666667</td>\n",
       "      <td>0.853333</td>\n",
       "      <td>0.097980</td>\n",
       "      <td>4</td>\n",
       "    </tr>\n",
       "    <tr>\n",
       "      <th>5</th>\n",
       "      <td>0.001787</td>\n",
       "      <td>0.000141</td>\n",
       "      <td>0.000519</td>\n",
       "      <td>0.000059</td>\n",
       "      <td>6</td>\n",
       "      <td>{'anova_filter__k': 6}</td>\n",
       "      <td>0.866667</td>\n",
       "      <td>0.933333</td>\n",
       "      <td>0.866667</td>\n",
       "      <td>1.000000</td>\n",
       "      <td>0.666667</td>\n",
       "      <td>0.866667</td>\n",
       "      <td>0.111555</td>\n",
       "      <td>3</td>\n",
       "    </tr>\n",
       "  </tbody>\n",
       "</table>\n",
       "</div>"
      ],
      "text/plain": [
       "   mean_fit_time  std_fit_time  mean_score_time  std_score_time  \\\n",
       "0       0.002750      0.000398         0.001381        0.000693   \n",
       "1       0.002834      0.001125         0.000757        0.000282   \n",
       "2       0.002081      0.000373         0.000508        0.000031   \n",
       "3       0.001733      0.000138         0.000487        0.000016   \n",
       "4       0.001769      0.000142         0.000485        0.000026   \n",
       "5       0.001787      0.000141         0.000519        0.000059   \n",
       "\n",
       "  param_anova_filter__k                  params  split0_test_score  \\\n",
       "0                     1  {'anova_filter__k': 1}           0.933333   \n",
       "1                     2  {'anova_filter__k': 2}           0.800000   \n",
       "2                     3  {'anova_filter__k': 3}           0.866667   \n",
       "3                     4  {'anova_filter__k': 4}           0.866667   \n",
       "4                     5  {'anova_filter__k': 5}           0.866667   \n",
       "5                     6  {'anova_filter__k': 6}           0.866667   \n",
       "\n",
       "   split1_test_score  split2_test_score  split3_test_score  split4_test_score  \\\n",
       "0           0.800000           1.000000           0.933333           0.800000   \n",
       "1           0.866667           0.866667           0.933333           0.666667   \n",
       "2           0.933333           1.000000           0.933333           0.666667   \n",
       "3           0.933333           0.866667           0.933333           0.666667   \n",
       "4           0.933333           0.866667           0.933333           0.666667   \n",
       "5           0.933333           0.866667           1.000000           0.666667   \n",
       "\n",
       "   mean_test_score  std_test_score  rank_test_score  \n",
       "0         0.893333        0.080000                1  \n",
       "1         0.826667        0.090431                6  \n",
       "2         0.880000        0.114698                2  \n",
       "3         0.853333        0.097980                4  \n",
       "4         0.853333        0.097980                4  \n",
       "5         0.866667        0.111555                3  "
      ]
     },
     "execution_count": 36,
     "metadata": {},
     "output_type": "execute_result"
    }
   ],
   "source": [
    "pd.DataFrame(grid_search.cv_results_)"
   ]
  },
  {
   "cell_type": "code",
   "execution_count": 37,
   "id": "b24bba88",
   "metadata": {},
   "outputs": [
    {
     "data": {
      "text/plain": [
       "{'anova_filter__k': 1}"
      ]
     },
     "execution_count": 37,
     "metadata": {},
     "output_type": "execute_result"
    }
   ],
   "source": [
    "grid_search.best_params_"
   ]
  },
  {
   "cell_type": "code",
   "execution_count": 41,
   "id": "63b0c5ae",
   "metadata": {},
   "outputs": [
    {
     "name": "stdout",
     "output_type": "stream",
     "text": [
      "              precision    recall  f1-score   support\n",
      "\n",
      "           0       1.00      0.73      0.85        15\n",
      "           1       0.71      1.00      0.83        10\n",
      "\n",
      "    accuracy                           0.84        25\n",
      "   macro avg       0.86      0.87      0.84        25\n",
      "weighted avg       0.89      0.84      0.84        25\n",
      "\n"
     ]
    }
   ],
   "source": [
    "from sklearn.metrics import classification_report\n",
    "\n",
    "y_pred = anova_svm.predict(X_test)\n",
    "print(classification_report(y_test, y_pred))\n"
   ]
  },
  {
   "cell_type": "code",
   "execution_count": 21,
   "id": "68fd9fb2",
   "metadata": {},
   "outputs": [
    {
     "data": {
      "text/plain": [
       "array([[0.75790801, 0.27159284, 0.2610942 ]])"
      ]
     },
     "execution_count": 21,
     "metadata": {},
     "output_type": "execute_result"
    }
   ],
   "source": [
    "anova_svm[-1].coef_"
   ]
  },
  {
   "cell_type": "code",
   "execution_count": 11,
   "id": "a6496874",
   "metadata": {},
   "outputs": [
    {
     "data": {
      "text/plain": [
       "array([[0.        , 0.        , 0.75790801, 0.        , 0.        ,\n",
       "        0.        , 0.        , 0.        , 0.        , 0.27159284,\n",
       "        0.        , 0.        , 0.        , 0.        , 0.        ,\n",
       "        0.        , 0.        , 0.        , 0.        , 0.2610942 ]])"
      ]
     },
     "execution_count": 11,
     "metadata": {},
     "output_type": "execute_result"
    }
   ],
   "source": [
    "anova_svm[:-1].inverse_transform(anova_svm[-1].coef_)\n"
   ]
  },
  {
   "cell_type": "code",
   "execution_count": 14,
   "id": "00ff6321",
   "metadata": {},
   "outputs": [],
   "source": [
    "import matplotlib.pyplot as plt"
   ]
  },
  {
   "cell_type": "code",
   "execution_count": 20,
   "id": "65db3173",
   "metadata": {},
   "outputs": [
    {
     "data": {
      "text/plain": [
       "<matplotlib.collections.PathCollection at 0x7fb23be81450>"
      ]
     },
     "execution_count": 20,
     "metadata": {},
     "output_type": "execute_result"
    },
    {
     "data": {
      "image/png": "[encoded data removed]",
      "text/plain": [
       "<Figure size 432x288 with 1 Axes>"
      ]
     },
     "metadata": {
      "needs_background": "light"
     },
     "output_type": "display_data"
    }
   ],
   "source": [
    "plt.scatter(X[:,2], X[:,9],c=y)"
   ]
  }
 ],
 "metadata": {
  "kernelspec": {
   "display_name": "Python 3",
   "language": "python",
   "name": "python3"
  },
  "language_info": {
   "codemirror_mode": {
    "name": "ipython",
    "version": 3
   },
   "file_extension": ".py",
   "mimetype": "text/x-python",
   "name": "python",
   "nbconvert_exporter": "python",
   "pygments_lexer": "ipython3",
   "version": "3.7.7"
  }
 },
 "nbformat": 4,
 "nbformat_minor": 5
}
