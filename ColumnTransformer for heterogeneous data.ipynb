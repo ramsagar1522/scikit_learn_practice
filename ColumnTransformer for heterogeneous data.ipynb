{
 "cells": [
  {
   "cell_type": "code",
   "execution_count": 31,
   "id": "2025c331",
   "metadata": {},
   "outputs": [],
   "source": [
    "import pandas as pd\n",
    "import numpy as np\n",
    "from sklearn.compose import ColumnTransformer\n",
    "from sklearn.feature_extraction.text import CountVectorizer\n",
    "from sklearn.preprocessing import OneHotEncoder\n",
    "from sklearn import set_config\n",
    "from sklearn.preprocessing import MinMaxScaler\n",
    "set_config(display='diagram')"
   ]
  },
  {
   "cell_type": "code",
   "execution_count": 7,
   "id": "f2e75ac4",
   "metadata": {},
   "outputs": [],
   "source": [
    "X = pd.DataFrame(\n",
    "    {'city': ['London', 'London', 'Paris', 'Sallisaw'],\n",
    "     'title': [\"His Last Bow\", \"How Watson Learned the Trick\",\n",
    "               \"A Moveable Feast\", \"The Grapes of Wrath\"],\n",
    "     'expert_rating': [5, 3, 4, 5],\n",
    "     'user_rating': [4, 5, 4, 3]})"
   ]
  },
  {
   "cell_type": "code",
   "execution_count": 8,
   "id": "a7bc290c",
   "metadata": {},
   "outputs": [
    {
     "data": {
      "text/html": [
       "<div>\n",
       "<style scoped>\n",
       "    .dataframe tbody tr th:only-of-type {\n",
       "        vertical-align: middle;\n",
       "    }\n",
       "\n",
       "    .dataframe tbody tr th {\n",
       "        vertical-align: top;\n",
       "    }\n",
       "\n",
       "    .dataframe thead th {\n",
       "        text-align: right;\n",
       "    }\n",
       "</style>\n",
       "<table border=\"1\" class=\"dataframe\">\n",
       "  <thead>\n",
       "    <tr style=\"text-align: right;\">\n",
       "      <th></th>\n",
       "      <th>city</th>\n",
       "      <th>title</th>\n",
       "      <th>expert_rating</th>\n",
       "      <th>user_rating</th>\n",
       "    </tr>\n",
       "  </thead>\n",
       "  <tbody>\n",
       "    <tr>\n",
       "      <th>0</th>\n",
       "      <td>London</td>\n",
       "      <td>His Last Bow</td>\n",
       "      <td>5</td>\n",
       "      <td>4</td>\n",
       "    </tr>\n",
       "    <tr>\n",
       "      <th>1</th>\n",
       "      <td>London</td>\n",
       "      <td>How Watson Learned the Trick</td>\n",
       "      <td>3</td>\n",
       "      <td>5</td>\n",
       "    </tr>\n",
       "    <tr>\n",
       "      <th>2</th>\n",
       "      <td>Paris</td>\n",
       "      <td>A Moveable Feast</td>\n",
       "      <td>4</td>\n",
       "      <td>4</td>\n",
       "    </tr>\n",
       "    <tr>\n",
       "      <th>3</th>\n",
       "      <td>Sallisaw</td>\n",
       "      <td>The Grapes of Wrath</td>\n",
       "      <td>5</td>\n",
       "      <td>3</td>\n",
       "    </tr>\n",
       "  </tbody>\n",
       "</table>\n",
       "</div>"
      ],
      "text/plain": [
       "       city                         title  expert_rating  user_rating\n",
       "0    London                  His Last Bow              5            4\n",
       "1    London  How Watson Learned the Trick              3            5\n",
       "2     Paris              A Moveable Feast              4            4\n",
       "3  Sallisaw           The Grapes of Wrath              5            3"
      ]
     },
     "execution_count": 8,
     "metadata": {},
     "output_type": "execute_result"
    }
   ],
   "source": [
    "X"
   ]
  },
  {
   "cell_type": "code",
   "execution_count": 9,
   "id": "88a59d96",
   "metadata": {
    "scrolled": true
   },
   "outputs": [
    {
     "data": {
      "text/html": [
       "<style>#sk-650e8fac-951c-4775-bfdd-040f8eb9291b {color: black;background-color: white;}#sk-650e8fac-951c-4775-bfdd-040f8eb9291b pre{padding: 0;}#sk-650e8fac-951c-4775-bfdd-040f8eb9291b div.sk-toggleable {background-color: white;}#sk-650e8fac-951c-4775-bfdd-040f8eb9291b label.sk-toggleable__label {cursor: pointer;display: block;width: 100%;margin-bottom: 0;padding: 0.3em;box-sizing: border-box;text-align: center;}#sk-650e8fac-951c-4775-bfdd-040f8eb9291b div.sk-toggleable__content {max-height: 0;max-width: 0;overflow: hidden;text-align: left;background-color: #f0f8ff;}#sk-650e8fac-951c-4775-bfdd-040f8eb9291b div.sk-toggleable__content pre {margin: 0.2em;color: black;border-radius: 0.25em;background-color: #f0f8ff;}#sk-650e8fac-951c-4775-bfdd-040f8eb9291b input.sk-toggleable__control:checked~div.sk-toggleable__content {max-height: 200px;max-width: 100%;overflow: auto;}#sk-650e8fac-951c-4775-bfdd-040f8eb9291b div.sk-estimator input.sk-toggleable__control:checked~label.sk-toggleable__label {background-color: #d4ebff;}#sk-650e8fac-951c-4775-bfdd-040f8eb9291b div.sk-label input.sk-toggleable__control:checked~label.sk-toggleable__label {background-color: #d4ebff;}#sk-650e8fac-951c-4775-bfdd-040f8eb9291b input.sk-hidden--visually {border: 0;clip: rect(1px 1px 1px 1px);clip: rect(1px, 1px, 1px, 1px);height: 1px;margin: -1px;overflow: hidden;padding: 0;position: absolute;width: 1px;}#sk-650e8fac-951c-4775-bfdd-040f8eb9291b div.sk-estimator {font-family: monospace;background-color: #f0f8ff;border: 1px dotted black;border-radius: 0.25em;box-sizing: border-box;margin-bottom: 0.5em;}#sk-650e8fac-951c-4775-bfdd-040f8eb9291b div.sk-estimator:hover {background-color: #d4ebff;}#sk-650e8fac-951c-4775-bfdd-040f8eb9291b div.sk-parallel-item::after {content: \"\";width: 100%;border-bottom: 1px solid gray;flex-grow: 1;}#sk-650e8fac-951c-4775-bfdd-040f8eb9291b div.sk-label:hover label.sk-toggleable__label {background-color: #d4ebff;}#sk-650e8fac-951c-4775-bfdd-040f8eb9291b div.sk-serial::before {content: \"\";position: absolute;border-left: 1px solid gray;box-sizing: border-box;top: 2em;bottom: 0;left: 50%;}#sk-650e8fac-951c-4775-bfdd-040f8eb9291b div.sk-serial {display: flex;flex-direction: column;align-items: center;background-color: white;padding-right: 0.2em;padding-left: 0.2em;}#sk-650e8fac-951c-4775-bfdd-040f8eb9291b div.sk-item {z-index: 1;}#sk-650e8fac-951c-4775-bfdd-040f8eb9291b div.sk-parallel {display: flex;align-items: stretch;justify-content: center;background-color: white;}#sk-650e8fac-951c-4775-bfdd-040f8eb9291b div.sk-parallel::before {content: \"\";position: absolute;border-left: 1px solid gray;box-sizing: border-box;top: 2em;bottom: 0;left: 50%;}#sk-650e8fac-951c-4775-bfdd-040f8eb9291b div.sk-parallel-item {display: flex;flex-direction: column;position: relative;background-color: white;}#sk-650e8fac-951c-4775-bfdd-040f8eb9291b div.sk-parallel-item:first-child::after {align-self: flex-end;width: 50%;}#sk-650e8fac-951c-4775-bfdd-040f8eb9291b div.sk-parallel-item:last-child::after {align-self: flex-start;width: 50%;}#sk-650e8fac-951c-4775-bfdd-040f8eb9291b div.sk-parallel-item:only-child::after {width: 0;}#sk-650e8fac-951c-4775-bfdd-040f8eb9291b div.sk-dashed-wrapped {border: 1px dashed gray;margin: 0 0.4em 0.5em 0.4em;box-sizing: border-box;padding-bottom: 0.4em;background-color: white;position: relative;}#sk-650e8fac-951c-4775-bfdd-040f8eb9291b div.sk-label label {font-family: monospace;font-weight: bold;background-color: white;display: inline-block;line-height: 1.2em;}#sk-650e8fac-951c-4775-bfdd-040f8eb9291b div.sk-label-container {position: relative;z-index: 2;text-align: center;}#sk-650e8fac-951c-4775-bfdd-040f8eb9291b div.sk-container {display: inline-block;position: relative;}</style><div id=\"sk-650e8fac-951c-4775-bfdd-040f8eb9291b\" class\"sk-top-container\"><div class=\"sk-container\"><div class=\"sk-item sk-dashed-wrapped\"><div class=\"sk-label-container\"><div class=\"sk-label sk-toggleable\"><input class=\"sk-toggleable__control sk-hidden--visually\" id=\"64fc0a9c-620a-42f3-a554-8a633295721f\" type=\"checkbox\" ><label class=\"sk-toggleable__label\" for=\"64fc0a9c-620a-42f3-a554-8a633295721f\">ColumnTransformer</label><div class=\"sk-toggleable__content\"><pre>ColumnTransformer(transformers=[('categories', OneHotEncoder(dtype='int'),\n",
       "                                 ['city']),\n",
       "                                ('title_bow', CountVectorizer(), 'title')],\n",
       "                  verbose_feature_names_out=False)</pre></div></div></div><div class=\"sk-parallel\"><div class=\"sk-parallel-item\"><div class=\"sk-item\"><div class=\"sk-label-container\"><div class=\"sk-label sk-toggleable\"><input class=\"sk-toggleable__control sk-hidden--visually\" id=\"d848d0fc-7b49-4364-84fe-35fd0b41ebf7\" type=\"checkbox\" ><label class=\"sk-toggleable__label\" for=\"d848d0fc-7b49-4364-84fe-35fd0b41ebf7\">categories</label><div class=\"sk-toggleable__content\"><pre>['city']</pre></div></div></div><div class=\"sk-serial\"><div class=\"sk-item\"><div class=\"sk-estimator sk-toggleable\"><input class=\"sk-toggleable__control sk-hidden--visually\" id=\"7437669d-aba3-4995-a83a-807970aa68f8\" type=\"checkbox\" ><label class=\"sk-toggleable__label\" for=\"7437669d-aba3-4995-a83a-807970aa68f8\">OneHotEncoder</label><div class=\"sk-toggleable__content\"><pre>OneHotEncoder(dtype='int')</pre></div></div></div></div></div></div><div class=\"sk-parallel-item\"><div class=\"sk-item\"><div class=\"sk-label-container\"><div class=\"sk-label sk-toggleable\"><input class=\"sk-toggleable__control sk-hidden--visually\" id=\"9245bc8e-c0af-4bce-a903-8d2046678a27\" type=\"checkbox\" ><label class=\"sk-toggleable__label\" for=\"9245bc8e-c0af-4bce-a903-8d2046678a27\">title_bow</label><div class=\"sk-toggleable__content\"><pre>title</pre></div></div></div><div class=\"sk-serial\"><div class=\"sk-item\"><div class=\"sk-estimator sk-toggleable\"><input class=\"sk-toggleable__control sk-hidden--visually\" id=\"0a8595ef-e82c-4194-b7ee-59b345e4ebef\" type=\"checkbox\" ><label class=\"sk-toggleable__label\" for=\"0a8595ef-e82c-4194-b7ee-59b345e4ebef\">CountVectorizer</label><div class=\"sk-toggleable__content\"><pre>CountVectorizer()</pre></div></div></div></div></div></div></div></div></div></div>"
      ],
      "text/plain": [
       "ColumnTransformer(transformers=[('categories', OneHotEncoder(dtype='int'),\n",
       "                                 ['city']),\n",
       "                                ('title_bow', CountVectorizer(), 'title')],\n",
       "                  verbose_feature_names_out=False)"
      ]
     },
     "execution_count": 9,
     "metadata": {},
     "output_type": "execute_result"
    }
   ],
   "source": [
    "column_tran = ColumnTransformer([\n",
    "    ('categories',  OneHotEncoder(dtype='int'), ['city']),\n",
    "    ('title_bow', CountVectorizer(), 'title')],\n",
    "remainder='drop', verbose_feature_names_out=False)\n",
    "column_tran"
   ]
  },
  {
   "cell_type": "code",
   "execution_count": 11,
   "id": "fa602d60",
   "metadata": {
    "scrolled": true
   },
   "outputs": [
    {
     "data": {
      "text/html": [
       "<style>#sk-d908193c-133e-44be-a6d2-69bfe3b6bd72 {color: black;background-color: white;}#sk-d908193c-133e-44be-a6d2-69bfe3b6bd72 pre{padding: 0;}#sk-d908193c-133e-44be-a6d2-69bfe3b6bd72 div.sk-toggleable {background-color: white;}#sk-d908193c-133e-44be-a6d2-69bfe3b6bd72 label.sk-toggleable__label {cursor: pointer;display: block;width: 100%;margin-bottom: 0;padding: 0.3em;box-sizing: border-box;text-align: center;}#sk-d908193c-133e-44be-a6d2-69bfe3b6bd72 div.sk-toggleable__content {max-height: 0;max-width: 0;overflow: hidden;text-align: left;background-color: #f0f8ff;}#sk-d908193c-133e-44be-a6d2-69bfe3b6bd72 div.sk-toggleable__content pre {margin: 0.2em;color: black;border-radius: 0.25em;background-color: #f0f8ff;}#sk-d908193c-133e-44be-a6d2-69bfe3b6bd72 input.sk-toggleable__control:checked~div.sk-toggleable__content {max-height: 200px;max-width: 100%;overflow: auto;}#sk-d908193c-133e-44be-a6d2-69bfe3b6bd72 div.sk-estimator input.sk-toggleable__control:checked~label.sk-toggleable__label {background-color: #d4ebff;}#sk-d908193c-133e-44be-a6d2-69bfe3b6bd72 div.sk-label input.sk-toggleable__control:checked~label.sk-toggleable__label {background-color: #d4ebff;}#sk-d908193c-133e-44be-a6d2-69bfe3b6bd72 input.sk-hidden--visually {border: 0;clip: rect(1px 1px 1px 1px);clip: rect(1px, 1px, 1px, 1px);height: 1px;margin: -1px;overflow: hidden;padding: 0;position: absolute;width: 1px;}#sk-d908193c-133e-44be-a6d2-69bfe3b6bd72 div.sk-estimator {font-family: monospace;background-color: #f0f8ff;border: 1px dotted black;border-radius: 0.25em;box-sizing: border-box;margin-bottom: 0.5em;}#sk-d908193c-133e-44be-a6d2-69bfe3b6bd72 div.sk-estimator:hover {background-color: #d4ebff;}#sk-d908193c-133e-44be-a6d2-69bfe3b6bd72 div.sk-parallel-item::after {content: \"\";width: 100%;border-bottom: 1px solid gray;flex-grow: 1;}#sk-d908193c-133e-44be-a6d2-69bfe3b6bd72 div.sk-label:hover label.sk-toggleable__label {background-color: #d4ebff;}#sk-d908193c-133e-44be-a6d2-69bfe3b6bd72 div.sk-serial::before {content: \"\";position: absolute;border-left: 1px solid gray;box-sizing: border-box;top: 2em;bottom: 0;left: 50%;}#sk-d908193c-133e-44be-a6d2-69bfe3b6bd72 div.sk-serial {display: flex;flex-direction: column;align-items: center;background-color: white;padding-right: 0.2em;padding-left: 0.2em;}#sk-d908193c-133e-44be-a6d2-69bfe3b6bd72 div.sk-item {z-index: 1;}#sk-d908193c-133e-44be-a6d2-69bfe3b6bd72 div.sk-parallel {display: flex;align-items: stretch;justify-content: center;background-color: white;}#sk-d908193c-133e-44be-a6d2-69bfe3b6bd72 div.sk-parallel::before {content: \"\";position: absolute;border-left: 1px solid gray;box-sizing: border-box;top: 2em;bottom: 0;left: 50%;}#sk-d908193c-133e-44be-a6d2-69bfe3b6bd72 div.sk-parallel-item {display: flex;flex-direction: column;position: relative;background-color: white;}#sk-d908193c-133e-44be-a6d2-69bfe3b6bd72 div.sk-parallel-item:first-child::after {align-self: flex-end;width: 50%;}#sk-d908193c-133e-44be-a6d2-69bfe3b6bd72 div.sk-parallel-item:last-child::after {align-self: flex-start;width: 50%;}#sk-d908193c-133e-44be-a6d2-69bfe3b6bd72 div.sk-parallel-item:only-child::after {width: 0;}#sk-d908193c-133e-44be-a6d2-69bfe3b6bd72 div.sk-dashed-wrapped {border: 1px dashed gray;margin: 0 0.4em 0.5em 0.4em;box-sizing: border-box;padding-bottom: 0.4em;background-color: white;position: relative;}#sk-d908193c-133e-44be-a6d2-69bfe3b6bd72 div.sk-label label {font-family: monospace;font-weight: bold;background-color: white;display: inline-block;line-height: 1.2em;}#sk-d908193c-133e-44be-a6d2-69bfe3b6bd72 div.sk-label-container {position: relative;z-index: 2;text-align: center;}#sk-d908193c-133e-44be-a6d2-69bfe3b6bd72 div.sk-container {display: inline-block;position: relative;}</style><div id=\"sk-d908193c-133e-44be-a6d2-69bfe3b6bd72\" class\"sk-top-container\"><div class=\"sk-container\"><div class=\"sk-item sk-dashed-wrapped\"><div class=\"sk-label-container\"><div class=\"sk-label sk-toggleable\"><input class=\"sk-toggleable__control sk-hidden--visually\" id=\"b8f671ba-d8ce-4d55-9952-41eac471bd1b\" type=\"checkbox\" ><label class=\"sk-toggleable__label\" for=\"b8f671ba-d8ce-4d55-9952-41eac471bd1b\">ColumnTransformer</label><div class=\"sk-toggleable__content\"><pre>ColumnTransformer(transformers=[('categories', OneHotEncoder(dtype='int'),\n",
       "                                 ['city']),\n",
       "                                ('title_bow', CountVectorizer(), 'title')],\n",
       "                  verbose_feature_names_out=False)</pre></div></div></div><div class=\"sk-parallel\"><div class=\"sk-parallel-item\"><div class=\"sk-item\"><div class=\"sk-label-container\"><div class=\"sk-label sk-toggleable\"><input class=\"sk-toggleable__control sk-hidden--visually\" id=\"ccc76625-7ab7-4b8a-9725-c6827c82b9dd\" type=\"checkbox\" ><label class=\"sk-toggleable__label\" for=\"ccc76625-7ab7-4b8a-9725-c6827c82b9dd\">categories</label><div class=\"sk-toggleable__content\"><pre>['city']</pre></div></div></div><div class=\"sk-serial\"><div class=\"sk-item\"><div class=\"sk-estimator sk-toggleable\"><input class=\"sk-toggleable__control sk-hidden--visually\" id=\"381ee3f7-6019-4467-a52e-f400ebdc9dab\" type=\"checkbox\" ><label class=\"sk-toggleable__label\" for=\"381ee3f7-6019-4467-a52e-f400ebdc9dab\">OneHotEncoder</label><div class=\"sk-toggleable__content\"><pre>OneHotEncoder(dtype='int')</pre></div></div></div></div></div></div><div class=\"sk-parallel-item\"><div class=\"sk-item\"><div class=\"sk-label-container\"><div class=\"sk-label sk-toggleable\"><input class=\"sk-toggleable__control sk-hidden--visually\" id=\"855b18ac-e123-4fc9-bc17-6aaaf3ef68be\" type=\"checkbox\" ><label class=\"sk-toggleable__label\" for=\"855b18ac-e123-4fc9-bc17-6aaaf3ef68be\">title_bow</label><div class=\"sk-toggleable__content\"><pre>title</pre></div></div></div><div class=\"sk-serial\"><div class=\"sk-item\"><div class=\"sk-estimator sk-toggleable\"><input class=\"sk-toggleable__control sk-hidden--visually\" id=\"bfe566f8-d2fa-424b-b48a-458d3d5e3efc\" type=\"checkbox\" ><label class=\"sk-toggleable__label\" for=\"bfe566f8-d2fa-424b-b48a-458d3d5e3efc\">CountVectorizer</label><div class=\"sk-toggleable__content\"><pre>CountVectorizer()</pre></div></div></div></div></div></div></div></div></div></div>"
      ],
      "text/plain": [
       "ColumnTransformer(transformers=[('categories', OneHotEncoder(dtype='int'),\n",
       "                                 ['city']),\n",
       "                                ('title_bow', CountVectorizer(), 'title')],\n",
       "                  verbose_feature_names_out=False)"
      ]
     },
     "execution_count": 11,
     "metadata": {},
     "output_type": "execute_result"
    }
   ],
   "source": [
    "column_tran.fit(X)"
   ]
  },
  {
   "cell_type": "code",
   "execution_count": 13,
   "id": "d30eed63",
   "metadata": {
    "scrolled": true
   },
   "outputs": [
    {
     "data": {
      "text/plain": [
       "array(['city_London', 'city_Paris', 'city_Sallisaw', 'bow', 'feast',\n",
       "       'grapes', 'his', 'how', 'last', 'learned', 'moveable', 'of', 'the',\n",
       "       'trick', 'watson', 'wrath'], dtype=object)"
      ]
     },
     "execution_count": 13,
     "metadata": {},
     "output_type": "execute_result"
    }
   ],
   "source": [
    "column_tran.get_feature_names_out()"
   ]
  },
  {
   "cell_type": "code",
   "execution_count": 15,
   "id": "8befafa8",
   "metadata": {},
   "outputs": [
    {
     "data": {
      "text/plain": [
       "array([[1, 0, 0, 1, 0, 0, 1, 0, 1, 0, 0, 0, 0, 0, 0, 0],\n",
       "       [1, 0, 0, 0, 0, 0, 0, 1, 0, 1, 0, 0, 1, 1, 1, 0],\n",
       "       [0, 1, 0, 0, 1, 0, 0, 0, 0, 0, 1, 0, 0, 0, 0, 0],\n",
       "       [0, 0, 1, 0, 0, 1, 0, 0, 0, 0, 0, 1, 1, 0, 0, 1]])"
      ]
     },
     "execution_count": 15,
     "metadata": {},
     "output_type": "execute_result"
    }
   ],
   "source": [
    "column_tran.transform(X).toarray()"
   ]
  },
  {
   "cell_type": "code",
   "execution_count": 18,
   "id": "6e2dfcff",
   "metadata": {},
   "outputs": [
    {
     "data": {
      "text/html": [
       "<div>\n",
       "<style scoped>\n",
       "    .dataframe tbody tr th:only-of-type {\n",
       "        vertical-align: middle;\n",
       "    }\n",
       "\n",
       "    .dataframe tbody tr th {\n",
       "        vertical-align: top;\n",
       "    }\n",
       "\n",
       "    .dataframe thead th {\n",
       "        text-align: right;\n",
       "    }\n",
       "</style>\n",
       "<table border=\"1\" class=\"dataframe\">\n",
       "  <thead>\n",
       "    <tr style=\"text-align: right;\">\n",
       "      <th></th>\n",
       "      <th>city_London</th>\n",
       "      <th>city_Paris</th>\n",
       "      <th>city_Sallisaw</th>\n",
       "      <th>bow</th>\n",
       "      <th>feast</th>\n",
       "      <th>grapes</th>\n",
       "      <th>his</th>\n",
       "      <th>how</th>\n",
       "      <th>last</th>\n",
       "      <th>learned</th>\n",
       "      <th>moveable</th>\n",
       "      <th>of</th>\n",
       "      <th>the</th>\n",
       "      <th>trick</th>\n",
       "      <th>watson</th>\n",
       "      <th>wrath</th>\n",
       "    </tr>\n",
       "  </thead>\n",
       "  <tbody>\n",
       "    <tr>\n",
       "      <th>0</th>\n",
       "      <td>1</td>\n",
       "      <td>0</td>\n",
       "      <td>0</td>\n",
       "      <td>1</td>\n",
       "      <td>0</td>\n",
       "      <td>0</td>\n",
       "      <td>1</td>\n",
       "      <td>0</td>\n",
       "      <td>1</td>\n",
       "      <td>0</td>\n",
       "      <td>0</td>\n",
       "      <td>0</td>\n",
       "      <td>0</td>\n",
       "      <td>0</td>\n",
       "      <td>0</td>\n",
       "      <td>0</td>\n",
       "    </tr>\n",
       "    <tr>\n",
       "      <th>1</th>\n",
       "      <td>1</td>\n",
       "      <td>0</td>\n",
       "      <td>0</td>\n",
       "      <td>0</td>\n",
       "      <td>0</td>\n",
       "      <td>0</td>\n",
       "      <td>0</td>\n",
       "      <td>1</td>\n",
       "      <td>0</td>\n",
       "      <td>1</td>\n",
       "      <td>0</td>\n",
       "      <td>0</td>\n",
       "      <td>1</td>\n",
       "      <td>1</td>\n",
       "      <td>1</td>\n",
       "      <td>0</td>\n",
       "    </tr>\n",
       "    <tr>\n",
       "      <th>2</th>\n",
       "      <td>0</td>\n",
       "      <td>1</td>\n",
       "      <td>0</td>\n",
       "      <td>0</td>\n",
       "      <td>1</td>\n",
       "      <td>0</td>\n",
       "      <td>0</td>\n",
       "      <td>0</td>\n",
       "      <td>0</td>\n",
       "      <td>0</td>\n",
       "      <td>1</td>\n",
       "      <td>0</td>\n",
       "      <td>0</td>\n",
       "      <td>0</td>\n",
       "      <td>0</td>\n",
       "      <td>0</td>\n",
       "    </tr>\n",
       "    <tr>\n",
       "      <th>3</th>\n",
       "      <td>0</td>\n",
       "      <td>0</td>\n",
       "      <td>1</td>\n",
       "      <td>0</td>\n",
       "      <td>0</td>\n",
       "      <td>1</td>\n",
       "      <td>0</td>\n",
       "      <td>0</td>\n",
       "      <td>0</td>\n",
       "      <td>0</td>\n",
       "      <td>0</td>\n",
       "      <td>1</td>\n",
       "      <td>1</td>\n",
       "      <td>0</td>\n",
       "      <td>0</td>\n",
       "      <td>1</td>\n",
       "    </tr>\n",
       "  </tbody>\n",
       "</table>\n",
       "</div>"
      ],
      "text/plain": [
       "   city_London  city_Paris  city_Sallisaw  bow  feast  grapes  his  how  last  \\\n",
       "0            1           0              0    1      0       0    1    0     1   \n",
       "1            1           0              0    0      0       0    0    1     0   \n",
       "2            0           1              0    0      1       0    0    0     0   \n",
       "3            0           0              1    0      0       1    0    0     0   \n",
       "\n",
       "   learned  moveable  of  the  trick  watson  wrath  \n",
       "0        0         0   0    0      0       0      0  \n",
       "1        1         0   0    1      1       1      0  \n",
       "2        0         1   0    0      0       0      0  \n",
       "3        0         0   1    1      0       0      1  "
      ]
     },
     "execution_count": 18,
     "metadata": {},
     "output_type": "execute_result"
    }
   ],
   "source": [
    "pd.DataFrame(data=column_tran.transform(X).toarray(),columns=column_tran.get_feature_names_out())"
   ]
  },
  {
   "cell_type": "code",
   "execution_count": 19,
   "id": "3e7d2aa0",
   "metadata": {},
   "outputs": [],
   "source": [
    "from sklearn.preprocessing import StandardScaler\n",
    "from sklearn.compose import make_column_selector"
   ]
  },
  {
   "cell_type": "code",
   "execution_count": 24,
   "id": "9ea20dd0",
   "metadata": {},
   "outputs": [],
   "source": [
    "ct = ColumnTransformer([\n",
    "    ('scale', StandardScaler(), make_column_selector(dtype_include=np.number)),\n",
    "    ('one_hot', OneHotEncoder(), make_column_selector(pattern='city', dtype_include=object))\n",
    "])"
   ]
  },
  {
   "cell_type": "code",
   "execution_count": 25,
   "id": "3176dc14",
   "metadata": {
    "scrolled": true
   },
   "outputs": [
    {
     "data": {
      "text/html": [
       "<style>#sk-3e26b524-f382-4401-9f67-5b1d09d4e0bb {color: black;background-color: white;}#sk-3e26b524-f382-4401-9f67-5b1d09d4e0bb pre{padding: 0;}#sk-3e26b524-f382-4401-9f67-5b1d09d4e0bb div.sk-toggleable {background-color: white;}#sk-3e26b524-f382-4401-9f67-5b1d09d4e0bb label.sk-toggleable__label {cursor: pointer;display: block;width: 100%;margin-bottom: 0;padding: 0.3em;box-sizing: border-box;text-align: center;}#sk-3e26b524-f382-4401-9f67-5b1d09d4e0bb div.sk-toggleable__content {max-height: 0;max-width: 0;overflow: hidden;text-align: left;background-color: #f0f8ff;}#sk-3e26b524-f382-4401-9f67-5b1d09d4e0bb div.sk-toggleable__content pre {margin: 0.2em;color: black;border-radius: 0.25em;background-color: #f0f8ff;}#sk-3e26b524-f382-4401-9f67-5b1d09d4e0bb input.sk-toggleable__control:checked~div.sk-toggleable__content {max-height: 200px;max-width: 100%;overflow: auto;}#sk-3e26b524-f382-4401-9f67-5b1d09d4e0bb div.sk-estimator input.sk-toggleable__control:checked~label.sk-toggleable__label {background-color: #d4ebff;}#sk-3e26b524-f382-4401-9f67-5b1d09d4e0bb div.sk-label input.sk-toggleable__control:checked~label.sk-toggleable__label {background-color: #d4ebff;}#sk-3e26b524-f382-4401-9f67-5b1d09d4e0bb input.sk-hidden--visually {border: 0;clip: rect(1px 1px 1px 1px);clip: rect(1px, 1px, 1px, 1px);height: 1px;margin: -1px;overflow: hidden;padding: 0;position: absolute;width: 1px;}#sk-3e26b524-f382-4401-9f67-5b1d09d4e0bb div.sk-estimator {font-family: monospace;background-color: #f0f8ff;border: 1px dotted black;border-radius: 0.25em;box-sizing: border-box;margin-bottom: 0.5em;}#sk-3e26b524-f382-4401-9f67-5b1d09d4e0bb div.sk-estimator:hover {background-color: #d4ebff;}#sk-3e26b524-f382-4401-9f67-5b1d09d4e0bb div.sk-parallel-item::after {content: \"\";width: 100%;border-bottom: 1px solid gray;flex-grow: 1;}#sk-3e26b524-f382-4401-9f67-5b1d09d4e0bb div.sk-label:hover label.sk-toggleable__label {background-color: #d4ebff;}#sk-3e26b524-f382-4401-9f67-5b1d09d4e0bb div.sk-serial::before {content: \"\";position: absolute;border-left: 1px solid gray;box-sizing: border-box;top: 2em;bottom: 0;left: 50%;}#sk-3e26b524-f382-4401-9f67-5b1d09d4e0bb div.sk-serial {display: flex;flex-direction: column;align-items: center;background-color: white;padding-right: 0.2em;padding-left: 0.2em;}#sk-3e26b524-f382-4401-9f67-5b1d09d4e0bb div.sk-item {z-index: 1;}#sk-3e26b524-f382-4401-9f67-5b1d09d4e0bb div.sk-parallel {display: flex;align-items: stretch;justify-content: center;background-color: white;}#sk-3e26b524-f382-4401-9f67-5b1d09d4e0bb div.sk-parallel::before {content: \"\";position: absolute;border-left: 1px solid gray;box-sizing: border-box;top: 2em;bottom: 0;left: 50%;}#sk-3e26b524-f382-4401-9f67-5b1d09d4e0bb div.sk-parallel-item {display: flex;flex-direction: column;position: relative;background-color: white;}#sk-3e26b524-f382-4401-9f67-5b1d09d4e0bb div.sk-parallel-item:first-child::after {align-self: flex-end;width: 50%;}#sk-3e26b524-f382-4401-9f67-5b1d09d4e0bb div.sk-parallel-item:last-child::after {align-self: flex-start;width: 50%;}#sk-3e26b524-f382-4401-9f67-5b1d09d4e0bb div.sk-parallel-item:only-child::after {width: 0;}#sk-3e26b524-f382-4401-9f67-5b1d09d4e0bb div.sk-dashed-wrapped {border: 1px dashed gray;margin: 0 0.4em 0.5em 0.4em;box-sizing: border-box;padding-bottom: 0.4em;background-color: white;position: relative;}#sk-3e26b524-f382-4401-9f67-5b1d09d4e0bb div.sk-label label {font-family: monospace;font-weight: bold;background-color: white;display: inline-block;line-height: 1.2em;}#sk-3e26b524-f382-4401-9f67-5b1d09d4e0bb div.sk-label-container {position: relative;z-index: 2;text-align: center;}#sk-3e26b524-f382-4401-9f67-5b1d09d4e0bb div.sk-container {display: inline-block;position: relative;}</style><div id=\"sk-3e26b524-f382-4401-9f67-5b1d09d4e0bb\" class\"sk-top-container\"><div class=\"sk-container\"><div class=\"sk-item sk-dashed-wrapped\"><div class=\"sk-label-container\"><div class=\"sk-label sk-toggleable\"><input class=\"sk-toggleable__control sk-hidden--visually\" id=\"77318f49-a1a8-4aac-98ed-bba40332a9a8\" type=\"checkbox\" ><label class=\"sk-toggleable__label\" for=\"77318f49-a1a8-4aac-98ed-bba40332a9a8\">ColumnTransformer</label><div class=\"sk-toggleable__content\"><pre>ColumnTransformer(transformers=[('scale', StandardScaler(),\n",
       "                                 <sklearn.compose._column_transformer.make_column_selector object at 0x7ff2c0728e10>),\n",
       "                                ('one_hot', OneHotEncoder(),\n",
       "                                 <sklearn.compose._column_transformer.make_column_selector object at 0x7ff2c0728c90>)])</pre></div></div></div><div class=\"sk-parallel\"><div class=\"sk-parallel-item\"><div class=\"sk-item\"><div class=\"sk-label-container\"><div class=\"sk-label sk-toggleable\"><input class=\"sk-toggleable__control sk-hidden--visually\" id=\"e9342c75-46a4-4656-bdc2-e50f10f4e5c1\" type=\"checkbox\" ><label class=\"sk-toggleable__label\" for=\"e9342c75-46a4-4656-bdc2-e50f10f4e5c1\">scale</label><div class=\"sk-toggleable__content\"><pre><sklearn.compose._column_transformer.make_column_selector object at 0x7ff2c0728e10></pre></div></div></div><div class=\"sk-serial\"><div class=\"sk-item\"><div class=\"sk-estimator sk-toggleable\"><input class=\"sk-toggleable__control sk-hidden--visually\" id=\"cfab1c90-a729-4fe1-a075-57cbe1f08b90\" type=\"checkbox\" ><label class=\"sk-toggleable__label\" for=\"cfab1c90-a729-4fe1-a075-57cbe1f08b90\">StandardScaler</label><div class=\"sk-toggleable__content\"><pre>StandardScaler()</pre></div></div></div></div></div></div><div class=\"sk-parallel-item\"><div class=\"sk-item\"><div class=\"sk-label-container\"><div class=\"sk-label sk-toggleable\"><input class=\"sk-toggleable__control sk-hidden--visually\" id=\"06c0ce95-8ddd-42c5-8a11-fa00c80cc8ef\" type=\"checkbox\" ><label class=\"sk-toggleable__label\" for=\"06c0ce95-8ddd-42c5-8a11-fa00c80cc8ef\">one_hot</label><div class=\"sk-toggleable__content\"><pre><sklearn.compose._column_transformer.make_column_selector object at 0x7ff2c0728c90></pre></div></div></div><div class=\"sk-serial\"><div class=\"sk-item\"><div class=\"sk-estimator sk-toggleable\"><input class=\"sk-toggleable__control sk-hidden--visually\" id=\"8d05ac3f-488f-4dd1-adde-515847903c0b\" type=\"checkbox\" ><label class=\"sk-toggleable__label\" for=\"8d05ac3f-488f-4dd1-adde-515847903c0b\">OneHotEncoder</label><div class=\"sk-toggleable__content\"><pre>OneHotEncoder()</pre></div></div></div></div></div></div></div></div></div></div>"
      ],
      "text/plain": [
       "ColumnTransformer(transformers=[('scale', StandardScaler(),\n",
       "                                 <sklearn.compose._column_transformer.make_column_selector object at 0x7ff2c0728e10>),\n",
       "                                ('one_hot', OneHotEncoder(),\n",
       "                                 <sklearn.compose._column_transformer.make_column_selector object at 0x7ff2c0728c90>)])"
      ]
     },
     "execution_count": 25,
     "metadata": {},
     "output_type": "execute_result"
    }
   ],
   "source": [
    "ct"
   ]
  },
  {
   "cell_type": "code",
   "execution_count": 27,
   "id": "fd3e6fd4",
   "metadata": {},
   "outputs": [
    {
     "data": {
      "text/plain": [
       "array([[ 0.90453403,  0.        ,  1.        ,  0.        ,  0.        ],\n",
       "       [-1.50755672,  1.41421356,  1.        ,  0.        ,  0.        ],\n",
       "       [-0.30151134,  0.        ,  0.        ,  1.        ,  0.        ],\n",
       "       [ 0.90453403, -1.41421356,  0.        ,  0.        ,  1.        ]])"
      ]
     },
     "execution_count": 27,
     "metadata": {},
     "output_type": "execute_result"
    }
   ],
   "source": [
    "ct.fit_transform(X)"
   ]
  },
  {
   "cell_type": "code",
   "execution_count": 28,
   "id": "32b7b93f",
   "metadata": {},
   "outputs": [],
   "source": [
    "column_trans = ColumnTransformer(\n",
    "    [('city_category', OneHotEncoder(dtype='int'),['city']),\n",
    "     ('title_bow', CountVectorizer(), 'title')],\n",
    "    remainder='passthrough')"
   ]
  },
  {
   "cell_type": "code",
   "execution_count": 29,
   "id": "bbd71abd",
   "metadata": {
    "scrolled": true
   },
   "outputs": [
    {
     "data": {
      "text/plain": [
       "array([[1, 0, 0, 1, 0, 0, 1, 0, 1, 0, 0, 0, 0, 0, 0, 0, 5, 4],\n",
       "       [1, 0, 0, 0, 0, 0, 0, 1, 0, 1, 0, 0, 1, 1, 1, 0, 3, 5],\n",
       "       [0, 1, 0, 0, 1, 0, 0, 0, 0, 0, 1, 0, 0, 0, 0, 0, 4, 4],\n",
       "       [0, 0, 1, 0, 0, 1, 0, 0, 0, 0, 0, 1, 1, 0, 0, 1, 5, 3]])"
      ]
     },
     "execution_count": 29,
     "metadata": {},
     "output_type": "execute_result"
    }
   ],
   "source": [
    "column_trans.fit_transform(X)\n"
   ]
  },
  {
   "cell_type": "code",
   "execution_count": 30,
   "id": "028c987f",
   "metadata": {
    "scrolled": true
   },
   "outputs": [
    {
     "data": {
      "text/plain": [
       "array(['city_London', 'city_Paris', 'city_Sallisaw', 'bow', 'feast',\n",
       "       'grapes', 'his', 'how', 'last', 'learned', 'moveable', 'of', 'the',\n",
       "       'trick', 'watson', 'wrath'], dtype=object)"
      ]
     },
     "execution_count": 30,
     "metadata": {},
     "output_type": "execute_result"
    }
   ],
   "source": [
    "column_tran.get_feature_names_out()"
   ]
  },
  {
   "cell_type": "code",
   "execution_count": 33,
   "id": "0343dab2",
   "metadata": {},
   "outputs": [
    {
     "data": {
      "text/html": [
       "<style>#sk-8378bb19-537d-4648-8b0c-2a88bf1423ff {color: black;background-color: white;}#sk-8378bb19-537d-4648-8b0c-2a88bf1423ff pre{padding: 0;}#sk-8378bb19-537d-4648-8b0c-2a88bf1423ff div.sk-toggleable {background-color: white;}#sk-8378bb19-537d-4648-8b0c-2a88bf1423ff label.sk-toggleable__label {cursor: pointer;display: block;width: 100%;margin-bottom: 0;padding: 0.3em;box-sizing: border-box;text-align: center;}#sk-8378bb19-537d-4648-8b0c-2a88bf1423ff div.sk-toggleable__content {max-height: 0;max-width: 0;overflow: hidden;text-align: left;background-color: #f0f8ff;}#sk-8378bb19-537d-4648-8b0c-2a88bf1423ff div.sk-toggleable__content pre {margin: 0.2em;color: black;border-radius: 0.25em;background-color: #f0f8ff;}#sk-8378bb19-537d-4648-8b0c-2a88bf1423ff input.sk-toggleable__control:checked~div.sk-toggleable__content {max-height: 200px;max-width: 100%;overflow: auto;}#sk-8378bb19-537d-4648-8b0c-2a88bf1423ff div.sk-estimator input.sk-toggleable__control:checked~label.sk-toggleable__label {background-color: #d4ebff;}#sk-8378bb19-537d-4648-8b0c-2a88bf1423ff div.sk-label input.sk-toggleable__control:checked~label.sk-toggleable__label {background-color: #d4ebff;}#sk-8378bb19-537d-4648-8b0c-2a88bf1423ff input.sk-hidden--visually {border: 0;clip: rect(1px 1px 1px 1px);clip: rect(1px, 1px, 1px, 1px);height: 1px;margin: -1px;overflow: hidden;padding: 0;position: absolute;width: 1px;}#sk-8378bb19-537d-4648-8b0c-2a88bf1423ff div.sk-estimator {font-family: monospace;background-color: #f0f8ff;border: 1px dotted black;border-radius: 0.25em;box-sizing: border-box;margin-bottom: 0.5em;}#sk-8378bb19-537d-4648-8b0c-2a88bf1423ff div.sk-estimator:hover {background-color: #d4ebff;}#sk-8378bb19-537d-4648-8b0c-2a88bf1423ff div.sk-parallel-item::after {content: \"\";width: 100%;border-bottom: 1px solid gray;flex-grow: 1;}#sk-8378bb19-537d-4648-8b0c-2a88bf1423ff div.sk-label:hover label.sk-toggleable__label {background-color: #d4ebff;}#sk-8378bb19-537d-4648-8b0c-2a88bf1423ff div.sk-serial::before {content: \"\";position: absolute;border-left: 1px solid gray;box-sizing: border-box;top: 2em;bottom: 0;left: 50%;}#sk-8378bb19-537d-4648-8b0c-2a88bf1423ff div.sk-serial {display: flex;flex-direction: column;align-items: center;background-color: white;padding-right: 0.2em;padding-left: 0.2em;}#sk-8378bb19-537d-4648-8b0c-2a88bf1423ff div.sk-item {z-index: 1;}#sk-8378bb19-537d-4648-8b0c-2a88bf1423ff div.sk-parallel {display: flex;align-items: stretch;justify-content: center;background-color: white;}#sk-8378bb19-537d-4648-8b0c-2a88bf1423ff div.sk-parallel::before {content: \"\";position: absolute;border-left: 1px solid gray;box-sizing: border-box;top: 2em;bottom: 0;left: 50%;}#sk-8378bb19-537d-4648-8b0c-2a88bf1423ff div.sk-parallel-item {display: flex;flex-direction: column;position: relative;background-color: white;}#sk-8378bb19-537d-4648-8b0c-2a88bf1423ff div.sk-parallel-item:first-child::after {align-self: flex-end;width: 50%;}#sk-8378bb19-537d-4648-8b0c-2a88bf1423ff div.sk-parallel-item:last-child::after {align-self: flex-start;width: 50%;}#sk-8378bb19-537d-4648-8b0c-2a88bf1423ff div.sk-parallel-item:only-child::after {width: 0;}#sk-8378bb19-537d-4648-8b0c-2a88bf1423ff div.sk-dashed-wrapped {border: 1px dashed gray;margin: 0 0.4em 0.5em 0.4em;box-sizing: border-box;padding-bottom: 0.4em;background-color: white;position: relative;}#sk-8378bb19-537d-4648-8b0c-2a88bf1423ff div.sk-label label {font-family: monospace;font-weight: bold;background-color: white;display: inline-block;line-height: 1.2em;}#sk-8378bb19-537d-4648-8b0c-2a88bf1423ff div.sk-label-container {position: relative;z-index: 2;text-align: center;}#sk-8378bb19-537d-4648-8b0c-2a88bf1423ff div.sk-container {display: inline-block;position: relative;}</style><div id=\"sk-8378bb19-537d-4648-8b0c-2a88bf1423ff\" class\"sk-top-container\"><div class=\"sk-container\"><div class=\"sk-item sk-dashed-wrapped\"><div class=\"sk-label-container\"><div class=\"sk-label sk-toggleable\"><input class=\"sk-toggleable__control sk-hidden--visually\" id=\"1e04a582-8319-4785-a823-896fe5e45b79\" type=\"checkbox\" ><label class=\"sk-toggleable__label\" for=\"1e04a582-8319-4785-a823-896fe5e45b79\">ColumnTransformer</label><div class=\"sk-toggleable__content\"><pre>ColumnTransformer(remainder=MinMaxScaler(),\n",
       "                  transformers=[('city_category', OneHotEncoder(), ['city']),\n",
       "                                ('title_bow', CountVectorizer(), 'title')])</pre></div></div></div><div class=\"sk-parallel\"><div class=\"sk-parallel-item\"><div class=\"sk-item\"><div class=\"sk-label-container\"><div class=\"sk-label sk-toggleable\"><input class=\"sk-toggleable__control sk-hidden--visually\" id=\"39927e89-ef07-497b-98d1-43467580c894\" type=\"checkbox\" ><label class=\"sk-toggleable__label\" for=\"39927e89-ef07-497b-98d1-43467580c894\">city_category</label><div class=\"sk-toggleable__content\"><pre>['city']</pre></div></div></div><div class=\"sk-serial\"><div class=\"sk-item\"><div class=\"sk-estimator sk-toggleable\"><input class=\"sk-toggleable__control sk-hidden--visually\" id=\"2fdff133-f31b-44ea-b000-9566789477aa\" type=\"checkbox\" ><label class=\"sk-toggleable__label\" for=\"2fdff133-f31b-44ea-b000-9566789477aa\">OneHotEncoder</label><div class=\"sk-toggleable__content\"><pre>OneHotEncoder()</pre></div></div></div></div></div></div><div class=\"sk-parallel-item\"><div class=\"sk-item\"><div class=\"sk-label-container\"><div class=\"sk-label sk-toggleable\"><input class=\"sk-toggleable__control sk-hidden--visually\" id=\"389cc0bc-c09e-481f-8f43-cbda3ab93080\" type=\"checkbox\" ><label class=\"sk-toggleable__label\" for=\"389cc0bc-c09e-481f-8f43-cbda3ab93080\">title_bow</label><div class=\"sk-toggleable__content\"><pre>title</pre></div></div></div><div class=\"sk-serial\"><div class=\"sk-item\"><div class=\"sk-estimator sk-toggleable\"><input class=\"sk-toggleable__control sk-hidden--visually\" id=\"926dc172-1fd5-4721-99a8-66498fc70e00\" type=\"checkbox\" ><label class=\"sk-toggleable__label\" for=\"926dc172-1fd5-4721-99a8-66498fc70e00\">CountVectorizer</label><div class=\"sk-toggleable__content\"><pre>CountVectorizer()</pre></div></div></div></div></div></div><div class=\"sk-parallel-item\"><div class=\"sk-item\"><div class=\"sk-label-container\"><div class=\"sk-label sk-toggleable\"><input class=\"sk-toggleable__control sk-hidden--visually\" id=\"9ac33c7a-d711-44b4-802a-ca6917d5a675\" type=\"checkbox\" ><label class=\"sk-toggleable__label\" for=\"9ac33c7a-d711-44b4-802a-ca6917d5a675\">remainder</label><div class=\"sk-toggleable__content\"><pre></pre></div></div></div><div class=\"sk-serial\"><div class=\"sk-item\"><div class=\"sk-estimator sk-toggleable\"><input class=\"sk-toggleable__control sk-hidden--visually\" id=\"acefc52e-1bac-4b6f-a031-7cf920a01b96\" type=\"checkbox\" ><label class=\"sk-toggleable__label\" for=\"acefc52e-1bac-4b6f-a031-7cf920a01b96\">MinMaxScaler</label><div class=\"sk-toggleable__content\"><pre>MinMaxScaler()</pre></div></div></div></div></div></div></div></div></div></div>"
      ],
      "text/plain": [
       "ColumnTransformer(remainder=MinMaxScaler(),\n",
       "                  transformers=[('city_category', OneHotEncoder(), ['city']),\n",
       "                                ('title_bow', CountVectorizer(), 'title')])"
      ]
     },
     "execution_count": 33,
     "metadata": {},
     "output_type": "execute_result"
    }
   ],
   "source": [
    "column_trans = ColumnTransformer(\n",
    "    [('city_category', OneHotEncoder(), ['city']),\n",
    "     ('title_bow', CountVectorizer(), 'title')],\n",
    "    remainder=MinMaxScaler())\n",
    "column_trans"
   ]
  },
  {
   "cell_type": "code",
   "execution_count": 35,
   "id": "1ca5c25d",
   "metadata": {},
   "outputs": [
    {
     "data": {
      "text/html": [
       "<style>#sk-dee09046-07e6-443f-8477-68d5fbea44dc {color: black;background-color: white;}#sk-dee09046-07e6-443f-8477-68d5fbea44dc pre{padding: 0;}#sk-dee09046-07e6-443f-8477-68d5fbea44dc div.sk-toggleable {background-color: white;}#sk-dee09046-07e6-443f-8477-68d5fbea44dc label.sk-toggleable__label {cursor: pointer;display: block;width: 100%;margin-bottom: 0;padding: 0.3em;box-sizing: border-box;text-align: center;}#sk-dee09046-07e6-443f-8477-68d5fbea44dc div.sk-toggleable__content {max-height: 0;max-width: 0;overflow: hidden;text-align: left;background-color: #f0f8ff;}#sk-dee09046-07e6-443f-8477-68d5fbea44dc div.sk-toggleable__content pre {margin: 0.2em;color: black;border-radius: 0.25em;background-color: #f0f8ff;}#sk-dee09046-07e6-443f-8477-68d5fbea44dc input.sk-toggleable__control:checked~div.sk-toggleable__content {max-height: 200px;max-width: 100%;overflow: auto;}#sk-dee09046-07e6-443f-8477-68d5fbea44dc div.sk-estimator input.sk-toggleable__control:checked~label.sk-toggleable__label {background-color: #d4ebff;}#sk-dee09046-07e6-443f-8477-68d5fbea44dc div.sk-label input.sk-toggleable__control:checked~label.sk-toggleable__label {background-color: #d4ebff;}#sk-dee09046-07e6-443f-8477-68d5fbea44dc input.sk-hidden--visually {border: 0;clip: rect(1px 1px 1px 1px);clip: rect(1px, 1px, 1px, 1px);height: 1px;margin: -1px;overflow: hidden;padding: 0;position: absolute;width: 1px;}#sk-dee09046-07e6-443f-8477-68d5fbea44dc div.sk-estimator {font-family: monospace;background-color: #f0f8ff;border: 1px dotted black;border-radius: 0.25em;box-sizing: border-box;margin-bottom: 0.5em;}#sk-dee09046-07e6-443f-8477-68d5fbea44dc div.sk-estimator:hover {background-color: #d4ebff;}#sk-dee09046-07e6-443f-8477-68d5fbea44dc div.sk-parallel-item::after {content: \"\";width: 100%;border-bottom: 1px solid gray;flex-grow: 1;}#sk-dee09046-07e6-443f-8477-68d5fbea44dc div.sk-label:hover label.sk-toggleable__label {background-color: #d4ebff;}#sk-dee09046-07e6-443f-8477-68d5fbea44dc div.sk-serial::before {content: \"\";position: absolute;border-left: 1px solid gray;box-sizing: border-box;top: 2em;bottom: 0;left: 50%;}#sk-dee09046-07e6-443f-8477-68d5fbea44dc div.sk-serial {display: flex;flex-direction: column;align-items: center;background-color: white;padding-right: 0.2em;padding-left: 0.2em;}#sk-dee09046-07e6-443f-8477-68d5fbea44dc div.sk-item {z-index: 1;}#sk-dee09046-07e6-443f-8477-68d5fbea44dc div.sk-parallel {display: flex;align-items: stretch;justify-content: center;background-color: white;}#sk-dee09046-07e6-443f-8477-68d5fbea44dc div.sk-parallel::before {content: \"\";position: absolute;border-left: 1px solid gray;box-sizing: border-box;top: 2em;bottom: 0;left: 50%;}#sk-dee09046-07e6-443f-8477-68d5fbea44dc div.sk-parallel-item {display: flex;flex-direction: column;position: relative;background-color: white;}#sk-dee09046-07e6-443f-8477-68d5fbea44dc div.sk-parallel-item:first-child::after {align-self: flex-end;width: 50%;}#sk-dee09046-07e6-443f-8477-68d5fbea44dc div.sk-parallel-item:last-child::after {align-self: flex-start;width: 50%;}#sk-dee09046-07e6-443f-8477-68d5fbea44dc div.sk-parallel-item:only-child::after {width: 0;}#sk-dee09046-07e6-443f-8477-68d5fbea44dc div.sk-dashed-wrapped {border: 1px dashed gray;margin: 0 0.4em 0.5em 0.4em;box-sizing: border-box;padding-bottom: 0.4em;background-color: white;position: relative;}#sk-dee09046-07e6-443f-8477-68d5fbea44dc div.sk-label label {font-family: monospace;font-weight: bold;background-color: white;display: inline-block;line-height: 1.2em;}#sk-dee09046-07e6-443f-8477-68d5fbea44dc div.sk-label-container {position: relative;z-index: 2;text-align: center;}#sk-dee09046-07e6-443f-8477-68d5fbea44dc div.sk-container {display: inline-block;position: relative;}</style><div id=\"sk-dee09046-07e6-443f-8477-68d5fbea44dc\" class\"sk-top-container\"><div class=\"sk-container\"><div class=\"sk-item sk-dashed-wrapped\"><div class=\"sk-label-container\"><div class=\"sk-label sk-toggleable\"><input class=\"sk-toggleable__control sk-hidden--visually\" id=\"1e274412-6aba-45f4-84fb-bae18a7ea925\" type=\"checkbox\" ><label class=\"sk-toggleable__label\" for=\"1e274412-6aba-45f4-84fb-bae18a7ea925\">ColumnTransformer</label><div class=\"sk-toggleable__content\"><pre>ColumnTransformer(remainder=MinMaxScaler(),\n",
       "                  transformers=[('onehotencoder', OneHotEncoder(), ['city']),\n",
       "                                ('countvectorizer', CountVectorizer(),\n",
       "                                 'title')])</pre></div></div></div><div class=\"sk-parallel\"><div class=\"sk-parallel-item\"><div class=\"sk-item\"><div class=\"sk-label-container\"><div class=\"sk-label sk-toggleable\"><input class=\"sk-toggleable__control sk-hidden--visually\" id=\"28fab942-7e2e-4f16-804b-6cc6ce303bfb\" type=\"checkbox\" ><label class=\"sk-toggleable__label\" for=\"28fab942-7e2e-4f16-804b-6cc6ce303bfb\">onehotencoder</label><div class=\"sk-toggleable__content\"><pre>['city']</pre></div></div></div><div class=\"sk-serial\"><div class=\"sk-item\"><div class=\"sk-estimator sk-toggleable\"><input class=\"sk-toggleable__control sk-hidden--visually\" id=\"13d49034-eb13-4f6b-88c9-879e3cf216d6\" type=\"checkbox\" ><label class=\"sk-toggleable__label\" for=\"13d49034-eb13-4f6b-88c9-879e3cf216d6\">OneHotEncoder</label><div class=\"sk-toggleable__content\"><pre>OneHotEncoder()</pre></div></div></div></div></div></div><div class=\"sk-parallel-item\"><div class=\"sk-item\"><div class=\"sk-label-container\"><div class=\"sk-label sk-toggleable\"><input class=\"sk-toggleable__control sk-hidden--visually\" id=\"70ee65b5-03cd-42c2-a5d4-e4cadb8d0e65\" type=\"checkbox\" ><label class=\"sk-toggleable__label\" for=\"70ee65b5-03cd-42c2-a5d4-e4cadb8d0e65\">countvectorizer</label><div class=\"sk-toggleable__content\"><pre>title</pre></div></div></div><div class=\"sk-serial\"><div class=\"sk-item\"><div class=\"sk-estimator sk-toggleable\"><input class=\"sk-toggleable__control sk-hidden--visually\" id=\"5e732d11-4b85-440e-b18c-299b40f8f964\" type=\"checkbox\" ><label class=\"sk-toggleable__label\" for=\"5e732d11-4b85-440e-b18c-299b40f8f964\">CountVectorizer</label><div class=\"sk-toggleable__content\"><pre>CountVectorizer()</pre></div></div></div></div></div></div><div class=\"sk-parallel-item\"><div class=\"sk-item\"><div class=\"sk-label-container\"><div class=\"sk-label sk-toggleable\"><input class=\"sk-toggleable__control sk-hidden--visually\" id=\"5b5cce2c-2c7a-4604-b789-891bbd26eb38\" type=\"checkbox\" ><label class=\"sk-toggleable__label\" for=\"5b5cce2c-2c7a-4604-b789-891bbd26eb38\">remainder</label><div class=\"sk-toggleable__content\"><pre></pre></div></div></div><div class=\"sk-serial\"><div class=\"sk-item\"><div class=\"sk-estimator sk-toggleable\"><input class=\"sk-toggleable__control sk-hidden--visually\" id=\"bc7ca630-7a99-4617-9083-843a9abd3a81\" type=\"checkbox\" ><label class=\"sk-toggleable__label\" for=\"bc7ca630-7a99-4617-9083-843a9abd3a81\">MinMaxScaler</label><div class=\"sk-toggleable__content\"><pre>MinMaxScaler()</pre></div></div></div></div></div></div></div></div></div></div>"
      ],
      "text/plain": [
       "ColumnTransformer(remainder=MinMaxScaler(),\n",
       "                  transformers=[('onehotencoder', OneHotEncoder(), ['city']),\n",
       "                                ('countvectorizer', CountVectorizer(),\n",
       "                                 'title')])"
      ]
     },
     "execution_count": 35,
     "metadata": {},
     "output_type": "execute_result"
    }
   ],
   "source": [
    "from sklearn.compose import make_column_transformer\n",
    "column_trans = make_column_transformer(\n",
    "    (OneHotEncoder(), ['city']),\n",
    "    (CountVectorizer(), 'title'),\n",
    "    remainder=MinMaxScaler())\n",
    "column_trans"
   ]
  },
  {
   "cell_type": "code",
   "execution_count": 36,
   "id": "a0d4ff08",
   "metadata": {},
   "outputs": [
    {
     "data": {
      "text/plain": [
       "array([[ 0.90453403],\n",
       "       [ 2.11057941],\n",
       "       [-3.91964748]])"
      ]
     },
     "execution_count": 36,
     "metadata": {},
     "output_type": "execute_result"
    }
   ],
   "source": [
    "ct = ColumnTransformer(\n",
    "         [(\"scale\", StandardScaler(), [\"expert_rating\"])]).fit(X)\n",
    "X_new = pd.DataFrame({\"expert_rating\": [5, 6, 1],\n",
    "                      \"ignored_new_col\": [1.2, 0.3, -0.1]})\n",
    "ct.transform(X_new)"
   ]
  }
 ],
 "metadata": {
  "kernelspec": {
   "display_name": "Python 3",
   "language": "python",
   "name": "python3"
  },
  "language_info": {
   "codemirror_mode": {
    "name": "ipython",
    "version": 3
   },
   "file_extension": ".py",
   "mimetype": "text/x-python",
   "name": "python",
   "nbconvert_exporter": "python",
   "pygments_lexer": "ipython3",
   "version": "3.7.7"
  }
 },
 "nbformat": 4,
 "nbformat_minor": 5
}
